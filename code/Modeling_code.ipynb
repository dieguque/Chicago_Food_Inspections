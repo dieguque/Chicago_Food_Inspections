{
 "cells": [
  {
   "cell_type": "markdown",
   "metadata": {},
   "source": [
    "# Modeling"
   ]
  },
  {
   "cell_type": "code",
   "execution_count": 1,
   "metadata": {},
   "outputs": [],
   "source": [
    "import pandas as pd\n",
    "import numpy as np\n",
    "\n",
    "import seaborn as sns\n",
    "import matplotlib.pyplot as plt\n",
    "%matplotlib inline\n",
    "\n",
    "\n",
    "from sklearn.model_selection import train_test_split\n",
    "from sklearn.linear_model import LogisticRegression \n",
    "from sklearn.preprocessing import StandardScaler\n",
    "\n",
    "\n",
    "from sklearn.neighbors import KNeighborsClassifier\n",
    "from sklearn.metrics import precision_score, recall_score, precision_recall_curve\n",
    "from sklearn.metrics import accuracy_score, roc_auc_score, roc_curve\n",
    "from sklearn.metrics import f1_score, fbeta_score\n",
    "from sklearn.metrics import classification_report\n",
    "from sklearn.metrics import confusion_matrix\n",
    "from sklearn import metrics\n",
    "\n",
    "from sklearn.metrics import mean_squared_error\n",
    "from sklearn.model_selection import GridSearchCV\n",
    "from sklearn.metrics import log_loss\n",
    "\n",
    "from sklearn.tree import DecisionTreeClassifier \n",
    "#from sklearn.ensemble import RandomForestRegressor\n",
    "from sklearn.ensemble import RandomForestClassifier"
   ]
  },
  {
   "cell_type": "code",
   "execution_count": 2,
   "metadata": {},
   "outputs": [
    {
     "name": "stdout",
     "output_type": "stream",
     "text": [
      "<class 'pandas.core.frame.DataFrame'>\n",
      "RangeIndex: 188956 entries, 0 to 188955\n",
      "Data columns (total 11 columns):\n",
      " #   Column             Non-Null Count   Dtype  \n",
      "---  ------             --------------   -----  \n",
      " 0   Unnamed: 0         188956 non-null  int64  \n",
      " 1   Zip                188956 non-null  float64\n",
      " 2   Latitude           188956 non-null  float64\n",
      " 3   Longitude          188956 non-null  float64\n",
      " 4   Facility Type      188956 non-null  int64  \n",
      " 5   Risk               188956 non-null  int64  \n",
      " 6   Inspection Type    188956 non-null  int64  \n",
      " 7   Results            188956 non-null  int64  \n",
      " 8   Violations         188956 non-null  int64  \n",
      " 9   Inspection Season  188956 non-null  int64  \n",
      " 10  Inspection Date    188956 non-null  int64  \n",
      "dtypes: float64(3), int64(8)\n",
      "memory usage: 15.9 MB\n"
     ]
    }
   ],
   "source": [
    "# Load my clean data\n",
    "df = pd.read_csv('data/df.csv')\n",
    "df_cat = pd.read_csv('data/df_cat.csv')\n",
    "df_num = pd.read_csv('data/df_num.csv')\n",
    "df.info()"
   ]
  },
  {
   "cell_type": "code",
   "execution_count": 3,
   "metadata": {},
   "outputs": [
    {
     "name": "stdout",
     "output_type": "stream",
     "text": [
      "<class 'pandas.core.frame.DataFrame'>\n",
      "RangeIndex: 188956 entries, 0 to 188955\n",
      "Data columns (total 8 columns):\n",
      " #   Column             Non-Null Count   Dtype\n",
      "---  ------             --------------   -----\n",
      " 0   Unnamed: 0         188956 non-null  int64\n",
      " 1   Facility Type      188956 non-null  int64\n",
      " 2   Risk               188956 non-null  int64\n",
      " 3   Inspection Type    188956 non-null  int64\n",
      " 4   Results            188956 non-null  int64\n",
      " 5   Violations         188956 non-null  int64\n",
      " 6   Inspection Season  188956 non-null  int64\n",
      " 7   Inspection Date    188956 non-null  int64\n",
      "dtypes: int64(8)\n",
      "memory usage: 11.5 MB\n"
     ]
    }
   ],
   "source": [
    "df_cat.info()"
   ]
  },
  {
   "cell_type": "code",
   "execution_count": 4,
   "metadata": {},
   "outputs": [
    {
     "data": {
      "text/html": [
       "<div>\n",
       "<style scoped>\n",
       "    .dataframe tbody tr th:only-of-type {\n",
       "        vertical-align: middle;\n",
       "    }\n",
       "\n",
       "    .dataframe tbody tr th {\n",
       "        vertical-align: top;\n",
       "    }\n",
       "\n",
       "    .dataframe thead th {\n",
       "        text-align: right;\n",
       "    }\n",
       "</style>\n",
       "<table border=\"1\" class=\"dataframe\">\n",
       "  <thead>\n",
       "    <tr style=\"text-align: right;\">\n",
       "      <th></th>\n",
       "      <th>Zip</th>\n",
       "      <th>Latitude</th>\n",
       "      <th>Longitude</th>\n",
       "    </tr>\n",
       "  </thead>\n",
       "  <tbody>\n",
       "    <tr>\n",
       "      <th>0</th>\n",
       "      <td>60630.0</td>\n",
       "      <td>41.975472</td>\n",
       "      <td>-87.767388</td>\n",
       "    </tr>\n",
       "    <tr>\n",
       "      <th>1</th>\n",
       "      <td>60654.0</td>\n",
       "      <td>41.888074</td>\n",
       "      <td>-87.634955</td>\n",
       "    </tr>\n",
       "    <tr>\n",
       "      <th>2</th>\n",
       "      <td>60643.0</td>\n",
       "      <td>41.706992</td>\n",
       "      <td>-87.646626</td>\n",
       "    </tr>\n",
       "    <tr>\n",
       "      <th>3</th>\n",
       "      <td>60618.0</td>\n",
       "      <td>41.954083</td>\n",
       "      <td>-87.698303</td>\n",
       "    </tr>\n",
       "    <tr>\n",
       "      <th>4</th>\n",
       "      <td>60639.0</td>\n",
       "      <td>41.919224</td>\n",
       "      <td>-87.767734</td>\n",
       "    </tr>\n",
       "  </tbody>\n",
       "</table>\n",
       "</div>"
      ],
      "text/plain": [
       "       Zip   Latitude  Longitude\n",
       "0  60630.0  41.975472 -87.767388\n",
       "1  60654.0  41.888074 -87.634955\n",
       "2  60643.0  41.706992 -87.646626\n",
       "3  60618.0  41.954083 -87.698303\n",
       "4  60639.0  41.919224 -87.767734"
      ]
     },
     "execution_count": 4,
     "metadata": {},
     "output_type": "execute_result"
    }
   ],
   "source": [
    "df.drop(['Unnamed: 0'], axis = 1, inplace = True)\n",
    "df_cat.drop(['Unnamed: 0'], axis = 1, inplace = True)\n",
    "df_num.drop(['Unnamed: 0'], axis = 1, inplace = True)\n",
    "\n",
    "df_num.head()"
   ]
  },
  {
   "cell_type": "code",
   "execution_count": 5,
   "metadata": {},
   "outputs": [
    {
     "name": "stdout",
     "output_type": "stream",
     "text": [
      "<class 'pandas.core.frame.DataFrame'>\n",
      "RangeIndex: 188956 entries, 0 to 188955\n",
      "Data columns (total 7 columns):\n",
      " #   Column             Non-Null Count   Dtype\n",
      "---  ------             --------------   -----\n",
      " 0   Facility Type      188956 non-null  int64\n",
      " 1   Risk               188956 non-null  int64\n",
      " 2   Inspection Type    188956 non-null  int64\n",
      " 3   Results            188956 non-null  int64\n",
      " 4   Violations         188956 non-null  int64\n",
      " 5   Inspection Season  188956 non-null  int64\n",
      " 6   Inspection Date    188956 non-null  int64\n",
      "dtypes: int64(7)\n",
      "memory usage: 10.1 MB\n"
     ]
    }
   ],
   "source": [
    "df_cat.info()"
   ]
  },
  {
   "cell_type": "code",
   "execution_count": 6,
   "metadata": {},
   "outputs": [
    {
     "name": "stdout",
     "output_type": "stream",
     "text": [
      "<class 'pandas.core.frame.DataFrame'>\n",
      "RangeIndex: 188956 entries, 0 to 188955\n",
      "Data columns (total 10 columns):\n",
      " #   Column             Non-Null Count   Dtype  \n",
      "---  ------             --------------   -----  \n",
      " 0   Zip                188956 non-null  float64\n",
      " 1   Latitude           188956 non-null  float64\n",
      " 2   Longitude          188956 non-null  float64\n",
      " 3   Facility Type      188956 non-null  int64  \n",
      " 4   Risk               188956 non-null  int64  \n",
      " 5   Inspection Type    188956 non-null  int64  \n",
      " 6   Results            188956 non-null  int64  \n",
      " 7   Violations         188956 non-null  int64  \n",
      " 8   Inspection Season  188956 non-null  int64  \n",
      " 9   Inspection Date    188956 non-null  int64  \n",
      "dtypes: float64(3), int64(7)\n",
      "memory usage: 14.4 MB\n"
     ]
    }
   ],
   "source": [
    "df.info()"
   ]
  },
  {
   "cell_type": "code",
   "execution_count": 7,
   "metadata": {},
   "outputs": [
    {
     "data": {
      "text/plain": [
       "Index(['Zip', 'Latitude', 'Longitude', 'Facility Type', 'Risk',\n",
       "       'Inspection Type', 'Results', 'Violations', 'Inspection Season',\n",
       "       'Inspection Date'],\n",
       "      dtype='object')"
      ]
     },
     "execution_count": 7,
     "metadata": {},
     "output_type": "execute_result"
    }
   ],
   "source": [
    "df.columns"
   ]
  },
  {
   "cell_type": "code",
   "execution_count": 8,
   "metadata": {},
   "outputs": [
    {
     "data": {
      "text/html": [
       "<div>\n",
       "<style scoped>\n",
       "    .dataframe tbody tr th:only-of-type {\n",
       "        vertical-align: middle;\n",
       "    }\n",
       "\n",
       "    .dataframe tbody tr th {\n",
       "        vertical-align: top;\n",
       "    }\n",
       "\n",
       "    .dataframe thead th {\n",
       "        text-align: right;\n",
       "    }\n",
       "</style>\n",
       "<table border=\"1\" class=\"dataframe\">\n",
       "  <thead>\n",
       "    <tr style=\"text-align: right;\">\n",
       "      <th></th>\n",
       "      <th>Zip</th>\n",
       "      <th>Latitude</th>\n",
       "      <th>Longitude</th>\n",
       "      <th>Facility Type</th>\n",
       "      <th>Risk</th>\n",
       "      <th>Inspection Type</th>\n",
       "      <th>Results</th>\n",
       "      <th>Violations</th>\n",
       "      <th>Inspection Season</th>\n",
       "      <th>Inspection Date</th>\n",
       "    </tr>\n",
       "  </thead>\n",
       "  <tbody>\n",
       "    <tr>\n",
       "      <th>0</th>\n",
       "      <td>60630.0</td>\n",
       "      <td>41.975472</td>\n",
       "      <td>-87.767388</td>\n",
       "      <td>15</td>\n",
       "      <td>1</td>\n",
       "      <td>49</td>\n",
       "      <td>1</td>\n",
       "      <td>158771</td>\n",
       "      <td>3</td>\n",
       "      <td>10</td>\n",
       "    </tr>\n",
       "    <tr>\n",
       "      <th>1</th>\n",
       "      <td>60654.0</td>\n",
       "      <td>41.888074</td>\n",
       "      <td>-87.634955</td>\n",
       "      <td>15</td>\n",
       "      <td>1</td>\n",
       "      <td>71</td>\n",
       "      <td>1</td>\n",
       "      <td>101287</td>\n",
       "      <td>3</td>\n",
       "      <td>6</td>\n",
       "    </tr>\n",
       "    <tr>\n",
       "      <th>2</th>\n",
       "      <td>60643.0</td>\n",
       "      <td>41.706992</td>\n",
       "      <td>-87.646626</td>\n",
       "      <td>7</td>\n",
       "      <td>3</td>\n",
       "      <td>16</td>\n",
       "      <td>1</td>\n",
       "      <td>102502</td>\n",
       "      <td>3</td>\n",
       "      <td>17</td>\n",
       "    </tr>\n",
       "    <tr>\n",
       "      <th>3</th>\n",
       "      <td>60618.0</td>\n",
       "      <td>41.954083</td>\n",
       "      <td>-87.698303</td>\n",
       "      <td>15</td>\n",
       "      <td>1</td>\n",
       "      <td>13</td>\n",
       "      <td>1</td>\n",
       "      <td>102829</td>\n",
       "      <td>3</td>\n",
       "      <td>3</td>\n",
       "    </tr>\n",
       "    <tr>\n",
       "      <th>4</th>\n",
       "      <td>60639.0</td>\n",
       "      <td>41.919224</td>\n",
       "      <td>-87.767734</td>\n",
       "      <td>15</td>\n",
       "      <td>1</td>\n",
       "      <td>16</td>\n",
       "      <td>1</td>\n",
       "      <td>90861</td>\n",
       "      <td>3</td>\n",
       "      <td>7</td>\n",
       "    </tr>\n",
       "  </tbody>\n",
       "</table>\n",
       "</div>"
      ],
      "text/plain": [
       "       Zip   Latitude  Longitude  Facility Type  Risk  Inspection Type  \\\n",
       "0  60630.0  41.975472 -87.767388             15     1               49   \n",
       "1  60654.0  41.888074 -87.634955             15     1               71   \n",
       "2  60643.0  41.706992 -87.646626              7     3               16   \n",
       "3  60618.0  41.954083 -87.698303             15     1               13   \n",
       "4  60639.0  41.919224 -87.767734             15     1               16   \n",
       "\n",
       "   Results  Violations  Inspection Season  Inspection Date  \n",
       "0        1      158771                  3               10  \n",
       "1        1      101287                  3                6  \n",
       "2        1      102502                  3               17  \n",
       "3        1      102829                  3                3  \n",
       "4        1       90861                  3                7  "
      ]
     },
     "execution_count": 8,
     "metadata": {},
     "output_type": "execute_result"
    }
   ],
   "source": [
    "df.head()"
   ]
  },
  {
   "cell_type": "code",
   "execution_count": 9,
   "metadata": {},
   "outputs": [
    {
     "name": "stdout",
     "output_type": "stream",
     "text": [
      "(188956, 10)\n",
      "(188956, 8)\n",
      "(188956,)\n"
     ]
    }
   ],
   "source": [
    "# Define X and y\n",
    "X = df.drop(['Results', 'Inspection Date'], axis=1)            \n",
    "y = df['Results']\n",
    "\n",
    "print(df.shape)\n",
    "print(X.shape)\n",
    "print(y.shape)"
   ]
  },
  {
   "cell_type": "code",
   "execution_count": 10,
   "metadata": {},
   "outputs": [],
   "source": [
    "X_train, X_test, y_train, y_test = train_test_split(X, y, test_size = 0.2, random_state = 10)"
   ]
  },
  {
   "cell_type": "markdown",
   "metadata": {},
   "source": [
    "## 1. Random Forest\n",
    "\n",
    "### 1a. Baseline / benchmark"
   ]
  },
  {
   "cell_type": "code",
   "execution_count": 11,
   "metadata": {},
   "outputs": [],
   "source": [
    "rf = RandomForestClassifier() #n_estimators=100,n_jobs = -1,random_state =50, min_samples_leaf = 10)\n",
    "rf.fit(X_train,y_train)\n",
    "y_pred_rf = rf.predict(X_test)\n",
    "\n"
   ]
  },
  {
   "cell_type": "code",
   "execution_count": 12,
   "metadata": {},
   "outputs": [
    {
     "name": "stdout",
     "output_type": "stream",
     "text": [
      "confusion matrix: \n",
      "\n",
      " [[ 5567   924  1828]\n",
      " [  369 22182   169]\n",
      " [ 1647   420  4686]]\n",
      "              precision    recall  f1-score   support\n",
      "\n",
      "           0       0.73      0.67      0.70      8319\n",
      "           1       0.94      0.98      0.96     22720\n",
      "           2       0.70      0.69      0.70      6753\n",
      "\n",
      "    accuracy                           0.86     37792\n",
      "   macro avg       0.79      0.78      0.79     37792\n",
      "weighted avg       0.85      0.86      0.86     37792\n",
      "\n"
     ]
    }
   ],
   "source": [
    "#Replace val w / test\n",
    "print(\"confusion matrix: \\n\\n\", \n",
    "      confusion_matrix(y_test, y_pred_rf))\n",
    "\n",
    "print(classification_report(y_test, y_pred_rf))"
   ]
  },
  {
   "cell_type": "code",
   "execution_count": 13,
   "metadata": {},
   "outputs": [
    {
     "data": {
      "image/png": "[encoded data removed]",
      "text/plain": [
       "<Figure size 432x288 with 2 Axes>"
      ]
     },
     "metadata": {
      "needs_background": "light"
     },
     "output_type": "display_data"
    }
   ],
   "source": [
    "rf_confusion = confusion_matrix(y_test, y_pred_rf, normalize='all')\n",
    "sns.heatmap(rf_confusion, cmap=plt.cm.Blues, annot=True, square=True,\n",
    "           xticklabels=['Pass', 'Fail', 'Pass w/ Conditions'],\n",
    "           yticklabels=['Pass', 'Fail', 'Pass w/ Conditions'])\n",
    "\n",
    "plt.xlabel('Predicted')\n",
    "plt.ylabel('Actual')\n",
    "plt.title('Random Forest confusion matrix');\n",
    "\n",
    "plt.savefig('charts/confusion_matrix_rf_food', bbox_inches='tight')"
   ]
  },
  {
   "cell_type": "code",
   "execution_count": 14,
   "metadata": {},
   "outputs": [],
   "source": [
    "df_features = df.columns.drop(['Results', 'Inspection Date'])"
   ]
  },
  {
   "cell_type": "code",
   "execution_count": 15,
   "metadata": {},
   "outputs": [
    {
     "data": {
      "image/png": "[encoded data removed]",
      "text/plain": [
       "<Figure size 432x288 with 1 Axes>"
      ]
     },
     "metadata": {
      "needs_background": "light"
     },
     "output_type": "display_data"
    }
   ],
   "source": [
    "D = dict(zip(df_features, rf.feature_importances_ ))\n",
    "D = {k: v for k, v in sorted(D.items(), key=lambda item: item[1])}\n",
    "plt.bar(range(len(D)), list(D.values()), align='center')\n",
    "plt.xticks(range(len(D)), list(D.keys()))\n",
    "plt.xticks(rotation=90)\n",
    "plt.ylabel('Importance'); plt.xlabel('Variable'); plt.title('Variable Importances')\n",
    ";\n",
    "\n",
    "plt.savefig('charts/variable_importance_rf', bbox_inches='tight')"
   ]
  },
  {
   "cell_type": "markdown",
   "metadata": {},
   "source": [
    "### 1b. Random forest Classifier with class imbalance"
   ]
  },
  {
   "cell_type": "code",
   "execution_count": 16,
   "metadata": {},
   "outputs": [],
   "source": [
    "rfc = RandomForestClassifier(n_estimators=100, n_jobs = -1,class_weight=\"balanced\",random_state =50 , min_samples_leaf = 10)\n",
    "rfc.fit(X_train,y_train)\n",
    "y_pred_rfc = rfc.predict(X_test)"
   ]
  },
  {
   "cell_type": "code",
   "execution_count": 17,
   "metadata": {},
   "outputs": [
    {
     "name": "stdout",
     "output_type": "stream",
     "text": [
      "confusion matrix: \n",
      "\n",
      " [[ 5063   834  2422]\n",
      " [  451 21971   298]\n",
      " [ 1015   337  5401]]\n",
      "              precision    recall  f1-score   support\n",
      "\n",
      "           0       0.78      0.61      0.68      8319\n",
      "           1       0.95      0.97      0.96     22720\n",
      "           2       0.67      0.80      0.73      6753\n",
      "\n",
      "    accuracy                           0.86     37792\n",
      "   macro avg       0.80      0.79      0.79     37792\n",
      "weighted avg       0.86      0.86      0.86     37792\n",
      "\n"
     ]
    }
   ],
   "source": [
    "print(\"confusion matrix: \\n\\n\", \n",
    "      confusion_matrix(y_test, y_pred_rfc))\n",
    "\n",
    "print(classification_report(y_test, y_pred_rfc))"
   ]
  },
  {
   "cell_type": "code",
   "execution_count": 18,
   "metadata": {},
   "outputs": [
    {
     "data": {
      "text/plain": [
       "array([0.02227663, 0.04527124, 0.04375811, 0.0141225 , 0.0112731 ,\n",
       "       0.06370413, 0.78727402, 0.01232028])"
      ]
     },
     "execution_count": 18,
     "metadata": {},
     "output_type": "execute_result"
    }
   ],
   "source": [
    "rfc.feature_importances_"
   ]
  },
  {
   "cell_type": "code",
   "execution_count": 19,
   "metadata": {},
   "outputs": [
    {
     "name": "stdout",
     "output_type": "stream",
     "text": [
      "Variable: Violations           Importance: 0.7873\n",
      "Variable: Inspection Type      Importance: 0.0637\n",
      "Variable: Latitude             Importance: 0.0453\n",
      "Variable: Longitude            Importance: 0.0438\n",
      "Variable: Zip                  Importance: 0.0223\n",
      "Variable: Facility Type        Importance: 0.0141\n",
      "Variable: Inspection Season    Importance: 0.0123\n",
      "Variable: Risk                 Importance: 0.0113\n"
     ]
    }
   ],
   "source": [
    "# feature importance\n",
    "\n",
    "feature_list = list(X_train.columns)\n",
    "\n",
    "# Get numerical feature importances\n",
    "importances = list(rfc.feature_importances_)\n",
    "# List of tuples with variable and importance\n",
    "feature_importances = [(feature, round(importance, 4)) for feature, importance in zip(feature_list, importances)]\n",
    "# Sort the feature importances by most important first\n",
    "feature_importances = sorted(feature_importances, key = lambda x: x[1], reverse = True)\n",
    "# Print out the feature and importances \n",
    "[print('Variable: {:20} Importance: {}'.format(*pair)) for pair in feature_importances];"
   ]
  },
  {
   "cell_type": "code",
   "execution_count": 20,
   "metadata": {},
   "outputs": [
    {
     "data": {
      "image/png": "[encoded data removed]",
      "text/plain": [
       "<Figure size 432x288 with 2 Axes>"
      ]
     },
     "metadata": {
      "needs_background": "light"
     },
     "output_type": "display_data"
    }
   ],
   "source": [
    "rfc_confusion = confusion_matrix(y_test, y_pred_rf, normalize='all')\n",
    "sns.heatmap(rfc_confusion, cmap=plt.cm.Blues, annot=True, square=True,\n",
    "           xticklabels=['Pass', 'Fail', 'Pass w/ Conditions'],\n",
    "           yticklabels=['Pass', 'Fail', 'Pass w/ Conditions'])\n",
    "\n",
    "plt.xlabel('Predicted')\n",
    "plt.ylabel('Actual')\n",
    "plt.title('Random Forest confusion matrix');\n",
    "\n",
    "plt.savefig(\"confusion_matrix_rfc_food\")"
   ]
  },
  {
   "cell_type": "code",
   "execution_count": null,
   "metadata": {},
   "outputs": [],
   "source": [
    "# Save tree as dot file\n",
    "export_graphviz(tree, 'tree_real_data.dot', rounded = True, \n",
    "                feature_names = features, max_depth = 6,\n",
    "                class_names = ['poor health', 'good health'], filled = True)\n",
    "\n",
    "# Convert to png\n",
    "call(['dot', '-Tpng', 'tree_real_data.dot', '-o', 'tree_real_data.png', '-Gdpi=200'])\n",
    "\n",
    "# Visualize\n",
    "Image(filename='tree_real_data.png')"
   ]
  },
  {
   "cell_type": "markdown",
   "metadata": {},
   "source": [
    "## 2. XGBoost\n",
    "\n",
    "### 2a. Baseline / benchmark"
   ]
  },
  {
   "cell_type": "code",
   "execution_count": 21,
   "metadata": {},
   "outputs": [],
   "source": [
    "import pandas as pd\n",
    "import numpy as np\n",
    "\n",
    "import seaborn as sns\n",
    "import matplotlib.pyplot as plt\n",
    "%matplotlib inline\n",
    "\n",
    "\n",
    "from sklearn.model_selection import train_test_split\n",
    "from sklearn.linear_model import LogisticRegression \n",
    "from sklearn.preprocessing import StandardScaler\n",
    "\n",
    "\n",
    "from sklearn.neighbors import KNeighborsClassifier\n",
    "from sklearn.metrics import precision_score, recall_score, precision_recall_curve\n",
    "from sklearn.metrics import accuracy_score, roc_auc_score, roc_curve\n",
    "from sklearn.metrics import f1_score, fbeta_score\n",
    "from sklearn.metrics import classification_report\n",
    "from sklearn.metrics import confusion_matrix\n",
    "from sklearn import metrics\n",
    "\n",
    "\n",
    "from sklearn.tree import DecisionTreeClassifier \n",
    "from sklearn.ensemble import RandomForestClassifier\n",
    "\n",
    "\n",
    "import xgboost as xgb\n",
    "from xgboost import XGBClassifier\n",
    "from sklearn.metrics import fbeta_score, make_scorer\n",
    "from sklearn.model_selection import GridSearchCV"
   ]
  },
  {
   "cell_type": "code",
   "execution_count": 22,
   "metadata": {},
   "outputs": [],
   "source": [
    "from sklearn.model_selection import train_test_split\n",
    "from sklearn.ensemble import RandomForestRegressor\n",
    "from sklearn.linear_model import LinearRegression\n",
    "\n",
    "#Split data into 3: 60% train, 20% validation, 20% test\n",
    "X_train, X_test, y_train, y_test = train_test_split(X, y, test_size=0.2, random_state=2018)\n",
    "X_train, X_val, y_train, y_val = train_test_split(X_train, y_train, test_size=0.25, random_state=2019)\n",
    "\n",
    "#Evaluate models with Root Mean Squared Error\n",
    "def rmse(actuals, preds):\n",
    "    return np.sqrt(((actuals - preds) ** 2).mean())"
   ]
  },
  {
   "cell_type": "code",
   "execution_count": 23,
   "metadata": {},
   "outputs": [
    {
     "data": {
      "text/plain": [
       "0.6224470073346028"
      ]
     },
     "execution_count": 23,
     "metadata": {},
     "output_type": "execute_result"
    }
   ],
   "source": [
    "# LR benchamark\n",
    "lr = LinearRegression()\n",
    "lr.fit(X_train, y_train)\n",
    "rmse(lr.predict(X_test), y_test)"
   ]
  },
  {
   "cell_type": "code",
   "execution_count": 24,
   "metadata": {},
   "outputs": [
    {
     "data": {
      "text/plain": [
       "0.5212887869221258"
      ]
     },
     "execution_count": 24,
     "metadata": {},
     "output_type": "execute_result"
    }
   ],
   "source": [
    "# RF benchmark\n",
    "rf = RandomForestRegressor(n_estimators = 100, max_features = 3, n_jobs=-1)\n",
    "rf.fit(X_train,y_train)\n",
    "rmse(rf.predict(X_test), y_test)"
   ]
  },
  {
   "cell_type": "code",
   "execution_count": 36,
   "metadata": {
    "scrolled": true
   },
   "outputs": [
    {
     "name": "stdout",
     "output_type": "stream",
     "text": [
      "[0]\tvalidation_0-rmse:0.74488\tvalidation_1-rmse:0.74251\n",
      "[1]\tvalidation_0-rmse:0.71513\tvalidation_1-rmse:0.71261\n",
      "[2]\tvalidation_0-rmse:0.69004\tvalidation_1-rmse:0.68740\n",
      "[3]\tvalidation_0-rmse:0.66905\tvalidation_1-rmse:0.66630\n",
      "[4]\tvalidation_0-rmse:0.65460\tvalidation_1-rmse:0.65179\n",
      "[5]\tvalidation_0-rmse:0.63881\tvalidation_1-rmse:0.63587\n",
      "[6]\tvalidation_0-rmse:0.62573\tvalidation_1-rmse:0.62265\n",
      "[7]\tvalidation_0-rmse:0.61292\tvalidation_1-rmse:0.60973\n",
      "[8]\tvalidation_0-rmse:0.60577\tvalidation_1-rmse:0.60255\n",
      "[9]\tvalidation_0-rmse:0.59774\tvalidation_1-rmse:0.59446\n",
      "[10]\tvalidation_0-rmse:0.58951\tvalidation_1-rmse:0.58631\n",
      "[11]\tvalidation_0-rmse:0.58393\tvalidation_1-rmse:0.58068\n",
      "[12]\tvalidation_0-rmse:0.57807\tvalidation_1-rmse:0.57490\n",
      "[13]\tvalidation_0-rmse:0.57249\tvalidation_1-rmse:0.56937\n",
      "[14]\tvalidation_0-rmse:0.56794\tvalidation_1-rmse:0.56486\n",
      "[15]\tvalidation_0-rmse:0.56420\tvalidation_1-rmse:0.56119\n",
      "[16]\tvalidation_0-rmse:0.56118\tvalidation_1-rmse:0.55823\n",
      "[17]\tvalidation_0-rmse:0.55877\tvalidation_1-rmse:0.55586\n",
      "[18]\tvalidation_0-rmse:0.55731\tvalidation_1-rmse:0.55442\n",
      "[19]\tvalidation_0-rmse:0.55610\tvalidation_1-rmse:0.55322\n",
      "[20]\tvalidation_0-rmse:0.55389\tvalidation_1-rmse:0.55107\n",
      "[21]\tvalidation_0-rmse:0.55239\tvalidation_1-rmse:0.54962\n",
      "[22]\tvalidation_0-rmse:0.55109\tvalidation_1-rmse:0.54836\n",
      "[23]\tvalidation_0-rmse:0.54959\tvalidation_1-rmse:0.54693\n",
      "[24]\tvalidation_0-rmse:0.54847\tvalidation_1-rmse:0.54586\n",
      "[25]\tvalidation_0-rmse:0.54755\tvalidation_1-rmse:0.54495\n",
      "[26]\tvalidation_0-rmse:0.54659\tvalidation_1-rmse:0.54403\n",
      "[27]\tvalidation_0-rmse:0.54574\tvalidation_1-rmse:0.54326\n",
      "[28]\tvalidation_0-rmse:0.54491\tvalidation_1-rmse:0.54255\n",
      "[29]\tvalidation_0-rmse:0.54433\tvalidation_1-rmse:0.54202\n",
      "[30]\tvalidation_0-rmse:0.54365\tvalidation_1-rmse:0.54137\n",
      "[31]\tvalidation_0-rmse:0.54291\tvalidation_1-rmse:0.54069\n",
      "[32]\tvalidation_0-rmse:0.54216\tvalidation_1-rmse:0.53995\n",
      "[33]\tvalidation_0-rmse:0.54110\tvalidation_1-rmse:0.53889\n",
      "[34]\tvalidation_0-rmse:0.54083\tvalidation_1-rmse:0.53862\n",
      "[35]\tvalidation_0-rmse:0.54004\tvalidation_1-rmse:0.53785\n",
      "[36]\tvalidation_0-rmse:0.53917\tvalidation_1-rmse:0.53697\n",
      "[37]\tvalidation_0-rmse:0.53878\tvalidation_1-rmse:0.53664\n",
      "[38]\tvalidation_0-rmse:0.53852\tvalidation_1-rmse:0.53642\n",
      "[39]\tvalidation_0-rmse:0.53839\tvalidation_1-rmse:0.53632\n",
      "[40]\tvalidation_0-rmse:0.53804\tvalidation_1-rmse:0.53600\n",
      "[41]\tvalidation_0-rmse:0.53774\tvalidation_1-rmse:0.53573\n",
      "[42]\tvalidation_0-rmse:0.53722\tvalidation_1-rmse:0.53524\n",
      "[43]\tvalidation_0-rmse:0.53707\tvalidation_1-rmse:0.53512\n",
      "[44]\tvalidation_0-rmse:0.53699\tvalidation_1-rmse:0.53504\n",
      "[45]\tvalidation_0-rmse:0.53690\tvalidation_1-rmse:0.53498\n",
      "[46]\tvalidation_0-rmse:0.53676\tvalidation_1-rmse:0.53485\n",
      "[47]\tvalidation_0-rmse:0.53657\tvalidation_1-rmse:0.53469\n",
      "[48]\tvalidation_0-rmse:0.53588\tvalidation_1-rmse:0.53399\n",
      "[49]\tvalidation_0-rmse:0.53571\tvalidation_1-rmse:0.53383\n",
      "[50]\tvalidation_0-rmse:0.53556\tvalidation_1-rmse:0.53371\n",
      "[51]\tvalidation_0-rmse:0.53503\tvalidation_1-rmse:0.53316\n",
      "[52]\tvalidation_0-rmse:0.53494\tvalidation_1-rmse:0.53309\n",
      "[53]\tvalidation_0-rmse:0.53486\tvalidation_1-rmse:0.53302\n",
      "[54]\tvalidation_0-rmse:0.53473\tvalidation_1-rmse:0.53289\n",
      "[55]\tvalidation_0-rmse:0.53367\tvalidation_1-rmse:0.53191\n",
      "[56]\tvalidation_0-rmse:0.53362\tvalidation_1-rmse:0.53187\n",
      "[57]\tvalidation_0-rmse:0.53347\tvalidation_1-rmse:0.53174\n",
      "[58]\tvalidation_0-rmse:0.53298\tvalidation_1-rmse:0.53128\n",
      "[59]\tvalidation_0-rmse:0.53252\tvalidation_1-rmse:0.53082\n",
      "[60]\tvalidation_0-rmse:0.53166\tvalidation_1-rmse:0.53007\n",
      "[61]\tvalidation_0-rmse:0.53153\tvalidation_1-rmse:0.52996\n",
      "[62]\tvalidation_0-rmse:0.53096\tvalidation_1-rmse:0.52945\n",
      "[63]\tvalidation_0-rmse:0.53086\tvalidation_1-rmse:0.52936\n",
      "[64]\tvalidation_0-rmse:0.53075\tvalidation_1-rmse:0.52926\n",
      "[65]\tvalidation_0-rmse:0.53034\tvalidation_1-rmse:0.52891\n",
      "[66]\tvalidation_0-rmse:0.52998\tvalidation_1-rmse:0.52854\n",
      "[67]\tvalidation_0-rmse:0.52926\tvalidation_1-rmse:0.52793\n",
      "[68]\tvalidation_0-rmse:0.52916\tvalidation_1-rmse:0.52785\n",
      "[69]\tvalidation_0-rmse:0.52888\tvalidation_1-rmse:0.52757\n",
      "[70]\tvalidation_0-rmse:0.52865\tvalidation_1-rmse:0.52733\n",
      "[71]\tvalidation_0-rmse:0.52838\tvalidation_1-rmse:0.52706\n",
      "[72]\tvalidation_0-rmse:0.52822\tvalidation_1-rmse:0.52692\n",
      "[73]\tvalidation_0-rmse:0.52797\tvalidation_1-rmse:0.52666\n",
      "[74]\tvalidation_0-rmse:0.52774\tvalidation_1-rmse:0.52644\n",
      "[75]\tvalidation_0-rmse:0.52765\tvalidation_1-rmse:0.52637\n",
      "[76]\tvalidation_0-rmse:0.52750\tvalidation_1-rmse:0.52624\n",
      "[77]\tvalidation_0-rmse:0.52746\tvalidation_1-rmse:0.52621\n",
      "[78]\tvalidation_0-rmse:0.52741\tvalidation_1-rmse:0.52618\n",
      "[79]\tvalidation_0-rmse:0.52731\tvalidation_1-rmse:0.52610\n",
      "[80]\tvalidation_0-rmse:0.52727\tvalidation_1-rmse:0.52607\n",
      "[81]\tvalidation_0-rmse:0.52705\tvalidation_1-rmse:0.52585\n",
      "[82]\tvalidation_0-rmse:0.52700\tvalidation_1-rmse:0.52583\n",
      "[83]\tvalidation_0-rmse:0.52693\tvalidation_1-rmse:0.52577\n",
      "[84]\tvalidation_0-rmse:0.52657\tvalidation_1-rmse:0.52546\n",
      "[85]\tvalidation_0-rmse:0.52654\tvalidation_1-rmse:0.52544\n",
      "[86]\tvalidation_0-rmse:0.52636\tvalidation_1-rmse:0.52526\n",
      "[87]\tvalidation_0-rmse:0.52631\tvalidation_1-rmse:0.52526\n",
      "[88]\tvalidation_0-rmse:0.52617\tvalidation_1-rmse:0.52517\n",
      "[89]\tvalidation_0-rmse:0.52602\tvalidation_1-rmse:0.52502\n",
      "[90]\tvalidation_0-rmse:0.52597\tvalidation_1-rmse:0.52499\n",
      "[91]\tvalidation_0-rmse:0.52593\tvalidation_1-rmse:0.52496\n",
      "[92]\tvalidation_0-rmse:0.52588\tvalidation_1-rmse:0.52494\n",
      "[93]\tvalidation_0-rmse:0.52580\tvalidation_1-rmse:0.52487\n",
      "[94]\tvalidation_0-rmse:0.52568\tvalidation_1-rmse:0.52477\n",
      "[95]\tvalidation_0-rmse:0.52564\tvalidation_1-rmse:0.52474\n",
      "[96]\tvalidation_0-rmse:0.52525\tvalidation_1-rmse:0.52440\n",
      "[97]\tvalidation_0-rmse:0.52522\tvalidation_1-rmse:0.52439\n",
      "[98]\tvalidation_0-rmse:0.52516\tvalidation_1-rmse:0.52433\n",
      "[99]\tvalidation_0-rmse:0.52504\tvalidation_1-rmse:0.52422\n",
      "[100]\tvalidation_0-rmse:0.52495\tvalidation_1-rmse:0.52415\n",
      "[101]\tvalidation_0-rmse:0.52489\tvalidation_1-rmse:0.52410\n",
      "[102]\tvalidation_0-rmse:0.52485\tvalidation_1-rmse:0.52408\n",
      "[103]\tvalidation_0-rmse:0.52447\tvalidation_1-rmse:0.52368\n",
      "[104]\tvalidation_0-rmse:0.52440\tvalidation_1-rmse:0.52365\n",
      "[105]\tvalidation_0-rmse:0.52391\tvalidation_1-rmse:0.52327\n",
      "[106]\tvalidation_0-rmse:0.52342\tvalidation_1-rmse:0.52285\n",
      "[107]\tvalidation_0-rmse:0.52335\tvalidation_1-rmse:0.52284\n",
      "[108]\tvalidation_0-rmse:0.52324\tvalidation_1-rmse:0.52273\n",
      "[109]\tvalidation_0-rmse:0.52321\tvalidation_1-rmse:0.52272\n",
      "[110]\tvalidation_0-rmse:0.52318\tvalidation_1-rmse:0.52269\n",
      "[111]\tvalidation_0-rmse:0.52304\tvalidation_1-rmse:0.52257\n",
      "[112]\tvalidation_0-rmse:0.52296\tvalidation_1-rmse:0.52251\n",
      "[113]\tvalidation_0-rmse:0.52289\tvalidation_1-rmse:0.52247\n",
      "[114]\tvalidation_0-rmse:0.52273\tvalidation_1-rmse:0.52231\n",
      "[115]\tvalidation_0-rmse:0.52250\tvalidation_1-rmse:0.52212\n",
      "[116]\tvalidation_0-rmse:0.52226\tvalidation_1-rmse:0.52193\n",
      "[117]\tvalidation_0-rmse:0.52221\tvalidation_1-rmse:0.52190\n",
      "[118]\tvalidation_0-rmse:0.52210\tvalidation_1-rmse:0.52179\n",
      "[119]\tvalidation_0-rmse:0.52207\tvalidation_1-rmse:0.52178\n",
      "[120]\tvalidation_0-rmse:0.52204\tvalidation_1-rmse:0.52177\n",
      "[121]\tvalidation_0-rmse:0.52201\tvalidation_1-rmse:0.52178\n",
      "[122]\tvalidation_0-rmse:0.52199\tvalidation_1-rmse:0.52178\n",
      "[123]\tvalidation_0-rmse:0.52197\tvalidation_1-rmse:0.52176\n",
      "[124]\tvalidation_0-rmse:0.52178\tvalidation_1-rmse:0.52160\n",
      "[125]\tvalidation_0-rmse:0.52175\tvalidation_1-rmse:0.52159\n",
      "[126]\tvalidation_0-rmse:0.52153\tvalidation_1-rmse:0.52142\n",
      "[127]\tvalidation_0-rmse:0.52129\tvalidation_1-rmse:0.52125\n",
      "[128]\tvalidation_0-rmse:0.52127\tvalidation_1-rmse:0.52124\n",
      "[129]\tvalidation_0-rmse:0.52118\tvalidation_1-rmse:0.52120\n",
      "[130]\tvalidation_0-rmse:0.52084\tvalidation_1-rmse:0.52089\n",
      "[131]\tvalidation_0-rmse:0.52079\tvalidation_1-rmse:0.52086\n",
      "[132]\tvalidation_0-rmse:0.52072\tvalidation_1-rmse:0.52081\n",
      "[133]\tvalidation_0-rmse:0.52069\tvalidation_1-rmse:0.52079\n",
      "[134]\tvalidation_0-rmse:0.52057\tvalidation_1-rmse:0.52072\n",
      "[135]\tvalidation_0-rmse:0.52055\tvalidation_1-rmse:0.52073\n",
      "[136]\tvalidation_0-rmse:0.52038\tvalidation_1-rmse:0.52060\n",
      "[137]\tvalidation_0-rmse:0.52035\tvalidation_1-rmse:0.52059\n",
      "[138]\tvalidation_0-rmse:0.52033\tvalidation_1-rmse:0.52059\n",
      "[139]\tvalidation_0-rmse:0.52031\tvalidation_1-rmse:0.52058\n",
      "[140]\tvalidation_0-rmse:0.52026\tvalidation_1-rmse:0.52057\n",
      "[141]\tvalidation_0-rmse:0.51989\tvalidation_1-rmse:0.52027\n",
      "[142]\tvalidation_0-rmse:0.51987\tvalidation_1-rmse:0.52027\n",
      "[143]\tvalidation_0-rmse:0.51978\tvalidation_1-rmse:0.52019\n",
      "[144]\tvalidation_0-rmse:0.51968\tvalidation_1-rmse:0.52015\n",
      "[145]\tvalidation_0-rmse:0.51963\tvalidation_1-rmse:0.52015\n",
      "[146]\tvalidation_0-rmse:0.51962\tvalidation_1-rmse:0.52016\n",
      "[147]\tvalidation_0-rmse:0.51955\tvalidation_1-rmse:0.52010\n",
      "[148]\tvalidation_0-rmse:0.51922\tvalidation_1-rmse:0.51985\n",
      "[149]\tvalidation_0-rmse:0.51919\tvalidation_1-rmse:0.51984\n",
      "[150]\tvalidation_0-rmse:0.51906\tvalidation_1-rmse:0.51975\n",
      "[151]\tvalidation_0-rmse:0.51904\tvalidation_1-rmse:0.51975\n",
      "[152]\tvalidation_0-rmse:0.51887\tvalidation_1-rmse:0.51960\n",
      "[153]\tvalidation_0-rmse:0.51875\tvalidation_1-rmse:0.51950\n",
      "[154]\tvalidation_0-rmse:0.51856\tvalidation_1-rmse:0.51929\n",
      "[155]\tvalidation_0-rmse:0.51843\tvalidation_1-rmse:0.51916\n",
      "[156]\tvalidation_0-rmse:0.51822\tvalidation_1-rmse:0.51901\n",
      "[157]\tvalidation_0-rmse:0.51819\tvalidation_1-rmse:0.51899\n",
      "[158]\tvalidation_0-rmse:0.51815\tvalidation_1-rmse:0.51895\n",
      "[159]\tvalidation_0-rmse:0.51814\tvalidation_1-rmse:0.51895\n",
      "[160]\tvalidation_0-rmse:0.51810\tvalidation_1-rmse:0.51894\n",
      "[161]\tvalidation_0-rmse:0.51803\tvalidation_1-rmse:0.51889\n",
      "[162]\tvalidation_0-rmse:0.51778\tvalidation_1-rmse:0.51870\n",
      "[163]\tvalidation_0-rmse:0.51759\tvalidation_1-rmse:0.51854\n",
      "[164]\tvalidation_0-rmse:0.51751\tvalidation_1-rmse:0.51850\n",
      "[165]\tvalidation_0-rmse:0.51748\tvalidation_1-rmse:0.51848\n",
      "[166]\tvalidation_0-rmse:0.51738\tvalidation_1-rmse:0.51841\n",
      "[167]\tvalidation_0-rmse:0.51736\tvalidation_1-rmse:0.51841\n",
      "[168]\tvalidation_0-rmse:0.51732\tvalidation_1-rmse:0.51838\n",
      "[169]\tvalidation_0-rmse:0.51721\tvalidation_1-rmse:0.51830\n",
      "[170]\tvalidation_0-rmse:0.51719\tvalidation_1-rmse:0.51830\n",
      "[171]\tvalidation_0-rmse:0.51713\tvalidation_1-rmse:0.51825\n",
      "[172]\tvalidation_0-rmse:0.51711\tvalidation_1-rmse:0.51824\n",
      "[173]\tvalidation_0-rmse:0.51709\tvalidation_1-rmse:0.51824\n",
      "[174]\tvalidation_0-rmse:0.51706\tvalidation_1-rmse:0.51824\n",
      "[175]\tvalidation_0-rmse:0.51702\tvalidation_1-rmse:0.51820\n",
      "[176]\tvalidation_0-rmse:0.51696\tvalidation_1-rmse:0.51818\n",
      "[177]\tvalidation_0-rmse:0.51688\tvalidation_1-rmse:0.51814\n",
      "[178]\tvalidation_0-rmse:0.51681\tvalidation_1-rmse:0.51807\n",
      "[179]\tvalidation_0-rmse:0.51660\tvalidation_1-rmse:0.51792\n",
      "[180]\tvalidation_0-rmse:0.51658\tvalidation_1-rmse:0.51792\n",
      "[181]\tvalidation_0-rmse:0.51642\tvalidation_1-rmse:0.51779\n",
      "[182]\tvalidation_0-rmse:0.51627\tvalidation_1-rmse:0.51767\n",
      "[183]\tvalidation_0-rmse:0.51625\tvalidation_1-rmse:0.51767\n",
      "[184]\tvalidation_0-rmse:0.51620\tvalidation_1-rmse:0.51764\n",
      "[185]\tvalidation_0-rmse:0.51608\tvalidation_1-rmse:0.51756\n",
      "[186]\tvalidation_0-rmse:0.51606\tvalidation_1-rmse:0.51755\n",
      "[187]\tvalidation_0-rmse:0.51603\tvalidation_1-rmse:0.51754\n",
      "[188]\tvalidation_0-rmse:0.51602\tvalidation_1-rmse:0.51754\n",
      "[189]\tvalidation_0-rmse:0.51586\tvalidation_1-rmse:0.51741\n",
      "[190]\tvalidation_0-rmse:0.51585\tvalidation_1-rmse:0.51741\n",
      "[191]\tvalidation_0-rmse:0.51580\tvalidation_1-rmse:0.51739\n",
      "[192]\tvalidation_0-rmse:0.51578\tvalidation_1-rmse:0.51740\n",
      "[193]\tvalidation_0-rmse:0.51576\tvalidation_1-rmse:0.51740\n",
      "[194]\tvalidation_0-rmse:0.51575\tvalidation_1-rmse:0.51740\n",
      "[195]\tvalidation_0-rmse:0.51574\tvalidation_1-rmse:0.51740\n",
      "[196]\tvalidation_0-rmse:0.51570\tvalidation_1-rmse:0.51743\n",
      "[197]\tvalidation_0-rmse:0.51565\tvalidation_1-rmse:0.51741\n",
      "[198]\tvalidation_0-rmse:0.51553\tvalidation_1-rmse:0.51733\n",
      "[199]\tvalidation_0-rmse:0.51548\tvalidation_1-rmse:0.51730\n",
      "[200]\tvalidation_0-rmse:0.51536\tvalidation_1-rmse:0.51718\n",
      "[201]\tvalidation_0-rmse:0.51533\tvalidation_1-rmse:0.51716\n",
      "[202]\tvalidation_0-rmse:0.51532\tvalidation_1-rmse:0.51716\n",
      "[203]\tvalidation_0-rmse:0.51528\tvalidation_1-rmse:0.51714\n",
      "[204]\tvalidation_0-rmse:0.51525\tvalidation_1-rmse:0.51714\n",
      "[205]\tvalidation_0-rmse:0.51524\tvalidation_1-rmse:0.51712\n",
      "[206]\tvalidation_0-rmse:0.51523\tvalidation_1-rmse:0.51712\n",
      "[207]\tvalidation_0-rmse:0.51520\tvalidation_1-rmse:0.51711\n",
      "[208]\tvalidation_0-rmse:0.51518\tvalidation_1-rmse:0.51712\n",
      "[209]\tvalidation_0-rmse:0.51517\tvalidation_1-rmse:0.51712\n",
      "[210]\tvalidation_0-rmse:0.51514\tvalidation_1-rmse:0.51711\n",
      "[211]\tvalidation_0-rmse:0.51510\tvalidation_1-rmse:0.51708\n",
      "[212]\tvalidation_0-rmse:0.51499\tvalidation_1-rmse:0.51702\n",
      "[213]\tvalidation_0-rmse:0.51496\tvalidation_1-rmse:0.51702\n",
      "[214]\tvalidation_0-rmse:0.51492\tvalidation_1-rmse:0.51701\n",
      "[215]\tvalidation_0-rmse:0.51482\tvalidation_1-rmse:0.51694\n",
      "[216]\tvalidation_0-rmse:0.51479\tvalidation_1-rmse:0.51694\n",
      "[217]\tvalidation_0-rmse:0.51477\tvalidation_1-rmse:0.51694\n",
      "[218]\tvalidation_0-rmse:0.51472\tvalidation_1-rmse:0.51694\n",
      "[219]\tvalidation_0-rmse:0.51470\tvalidation_1-rmse:0.51693\n",
      "[220]\tvalidation_0-rmse:0.51467\tvalidation_1-rmse:0.51692\n",
      "[221]\tvalidation_0-rmse:0.51464\tvalidation_1-rmse:0.51690\n",
      "[222]\tvalidation_0-rmse:0.51463\tvalidation_1-rmse:0.51690\n",
      "[223]\tvalidation_0-rmse:0.51460\tvalidation_1-rmse:0.51690\n",
      "[224]\tvalidation_0-rmse:0.51452\tvalidation_1-rmse:0.51681\n",
      "[225]\tvalidation_0-rmse:0.51450\tvalidation_1-rmse:0.51681\n",
      "[226]\tvalidation_0-rmse:0.51435\tvalidation_1-rmse:0.51666\n",
      "[227]\tvalidation_0-rmse:0.51429\tvalidation_1-rmse:0.51663\n",
      "[228]\tvalidation_0-rmse:0.51427\tvalidation_1-rmse:0.51663\n",
      "[229]\tvalidation_0-rmse:0.51426\tvalidation_1-rmse:0.51663\n",
      "[230]\tvalidation_0-rmse:0.51424\tvalidation_1-rmse:0.51663\n",
      "[231]\tvalidation_0-rmse:0.51422\tvalidation_1-rmse:0.51663\n",
      "[232]\tvalidation_0-rmse:0.51417\tvalidation_1-rmse:0.51661\n",
      "[233]\tvalidation_0-rmse:0.51416\tvalidation_1-rmse:0.51661\n",
      "[234]\tvalidation_0-rmse:0.51410\tvalidation_1-rmse:0.51657\n",
      "[235]\tvalidation_0-rmse:0.51408\tvalidation_1-rmse:0.51656\n",
      "[236]\tvalidation_0-rmse:0.51407\tvalidation_1-rmse:0.51656\n",
      "[237]\tvalidation_0-rmse:0.51405\tvalidation_1-rmse:0.51657\n",
      "[238]\tvalidation_0-rmse:0.51401\tvalidation_1-rmse:0.51655\n",
      "[239]\tvalidation_0-rmse:0.51395\tvalidation_1-rmse:0.51650\n",
      "[240]\tvalidation_0-rmse:0.51384\tvalidation_1-rmse:0.51646\n",
      "[241]\tvalidation_0-rmse:0.51380\tvalidation_1-rmse:0.51646\n",
      "[242]\tvalidation_0-rmse:0.51378\tvalidation_1-rmse:0.51646\n",
      "[243]\tvalidation_0-rmse:0.51376\tvalidation_1-rmse:0.51646\n",
      "[244]\tvalidation_0-rmse:0.51367\tvalidation_1-rmse:0.51646\n",
      "[245]\tvalidation_0-rmse:0.51365\tvalidation_1-rmse:0.51646\n",
      "[246]\tvalidation_0-rmse:0.51363\tvalidation_1-rmse:0.51646\n",
      "[247]\tvalidation_0-rmse:0.51360\tvalidation_1-rmse:0.51644\n",
      "[248]\tvalidation_0-rmse:0.51348\tvalidation_1-rmse:0.51637\n",
      "[249]\tvalidation_0-rmse:0.51346\tvalidation_1-rmse:0.51635\n",
      "[250]\tvalidation_0-rmse:0.51328\tvalidation_1-rmse:0.51623\n",
      "[251]\tvalidation_0-rmse:0.51327\tvalidation_1-rmse:0.51624\n",
      "[252]\tvalidation_0-rmse:0.51323\tvalidation_1-rmse:0.51623\n",
      "[253]\tvalidation_0-rmse:0.51322\tvalidation_1-rmse:0.51623\n",
      "[254]\tvalidation_0-rmse:0.51318\tvalidation_1-rmse:0.51621\n",
      "[255]\tvalidation_0-rmse:0.51311\tvalidation_1-rmse:0.51619\n",
      "[256]\tvalidation_0-rmse:0.51299\tvalidation_1-rmse:0.51607\n",
      "[257]\tvalidation_0-rmse:0.51299\tvalidation_1-rmse:0.51607\n",
      "[258]\tvalidation_0-rmse:0.51260\tvalidation_1-rmse:0.51578\n",
      "[259]\tvalidation_0-rmse:0.51255\tvalidation_1-rmse:0.51575\n",
      "[260]\tvalidation_0-rmse:0.51240\tvalidation_1-rmse:0.51566\n",
      "[261]\tvalidation_0-rmse:0.51238\tvalidation_1-rmse:0.51565\n",
      "[262]\tvalidation_0-rmse:0.51229\tvalidation_1-rmse:0.51562\n",
      "[263]\tvalidation_0-rmse:0.51227\tvalidation_1-rmse:0.51562\n",
      "[264]\tvalidation_0-rmse:0.51224\tvalidation_1-rmse:0.51565\n",
      "[265]\tvalidation_0-rmse:0.51222\tvalidation_1-rmse:0.51564\n",
      "[266]\tvalidation_0-rmse:0.51219\tvalidation_1-rmse:0.51564\n",
      "[267]\tvalidation_0-rmse:0.51214\tvalidation_1-rmse:0.51563\n",
      "[268]\tvalidation_0-rmse:0.51211\tvalidation_1-rmse:0.51563\n",
      "[269]\tvalidation_0-rmse:0.51208\tvalidation_1-rmse:0.51563\n",
      "[270]\tvalidation_0-rmse:0.51202\tvalidation_1-rmse:0.51562\n",
      "[271]\tvalidation_0-rmse:0.51193\tvalidation_1-rmse:0.51556\n",
      "[272]\tvalidation_0-rmse:0.51192\tvalidation_1-rmse:0.51556\n",
      "[273]\tvalidation_0-rmse:0.51191\tvalidation_1-rmse:0.51556\n",
      "[274]\tvalidation_0-rmse:0.51189\tvalidation_1-rmse:0.51555\n",
      "[275]\tvalidation_0-rmse:0.51185\tvalidation_1-rmse:0.51553\n",
      "[276]\tvalidation_0-rmse:0.51171\tvalidation_1-rmse:0.51541\n",
      "[277]\tvalidation_0-rmse:0.51164\tvalidation_1-rmse:0.51540\n",
      "[278]\tvalidation_0-rmse:0.51152\tvalidation_1-rmse:0.51529\n",
      "[279]\tvalidation_0-rmse:0.51148\tvalidation_1-rmse:0.51529\n",
      "[280]\tvalidation_0-rmse:0.51145\tvalidation_1-rmse:0.51528\n",
      "[281]\tvalidation_0-rmse:0.51135\tvalidation_1-rmse:0.51519\n",
      "[282]\tvalidation_0-rmse:0.51126\tvalidation_1-rmse:0.51518\n",
      "[283]\tvalidation_0-rmse:0.51122\tvalidation_1-rmse:0.51516\n",
      "[284]\tvalidation_0-rmse:0.51115\tvalidation_1-rmse:0.51513\n",
      "[285]\tvalidation_0-rmse:0.51114\tvalidation_1-rmse:0.51513\n",
      "[286]\tvalidation_0-rmse:0.51111\tvalidation_1-rmse:0.51512\n",
      "[287]\tvalidation_0-rmse:0.51107\tvalidation_1-rmse:0.51512\n",
      "[288]\tvalidation_0-rmse:0.51099\tvalidation_1-rmse:0.51506\n",
      "[289]\tvalidation_0-rmse:0.51090\tvalidation_1-rmse:0.51500\n",
      "[290]\tvalidation_0-rmse:0.51055\tvalidation_1-rmse:0.51468\n",
      "[291]\tvalidation_0-rmse:0.51053\tvalidation_1-rmse:0.51468\n",
      "[292]\tvalidation_0-rmse:0.51053\tvalidation_1-rmse:0.51468\n",
      "[293]\tvalidation_0-rmse:0.51047\tvalidation_1-rmse:0.51466\n",
      "[294]\tvalidation_0-rmse:0.51034\tvalidation_1-rmse:0.51455\n",
      "[295]\tvalidation_0-rmse:0.51033\tvalidation_1-rmse:0.51455\n",
      "[296]\tvalidation_0-rmse:0.51031\tvalidation_1-rmse:0.51453\n",
      "[297]\tvalidation_0-rmse:0.51030\tvalidation_1-rmse:0.51454\n",
      "[298]\tvalidation_0-rmse:0.51026\tvalidation_1-rmse:0.51452\n",
      "[299]\tvalidation_0-rmse:0.51024\tvalidation_1-rmse:0.51453\n",
      "[300]\tvalidation_0-rmse:0.51021\tvalidation_1-rmse:0.51454\n",
      "[301]\tvalidation_0-rmse:0.51011\tvalidation_1-rmse:0.51444\n",
      "[302]\tvalidation_0-rmse:0.51011\tvalidation_1-rmse:0.51445\n",
      "[303]\tvalidation_0-rmse:0.51009\tvalidation_1-rmse:0.51444\n",
      "[304]\tvalidation_0-rmse:0.51001\tvalidation_1-rmse:0.51441\n",
      "[305]\tvalidation_0-rmse:0.50998\tvalidation_1-rmse:0.51441\n",
      "[306]\tvalidation_0-rmse:0.50998\tvalidation_1-rmse:0.51441\n",
      "[307]\tvalidation_0-rmse:0.50994\tvalidation_1-rmse:0.51440\n",
      "[308]\tvalidation_0-rmse:0.50965\tvalidation_1-rmse:0.51414\n",
      "[309]\tvalidation_0-rmse:0.50963\tvalidation_1-rmse:0.51414\n",
      "[310]\tvalidation_0-rmse:0.50960\tvalidation_1-rmse:0.51412\n",
      "[311]\tvalidation_0-rmse:0.50953\tvalidation_1-rmse:0.51408\n",
      "[312]\tvalidation_0-rmse:0.50951\tvalidation_1-rmse:0.51406\n",
      "[313]\tvalidation_0-rmse:0.50949\tvalidation_1-rmse:0.51405\n",
      "[314]\tvalidation_0-rmse:0.50940\tvalidation_1-rmse:0.51398\n",
      "[315]\tvalidation_0-rmse:0.50935\tvalidation_1-rmse:0.51397\n",
      "[316]\tvalidation_0-rmse:0.50911\tvalidation_1-rmse:0.51377\n",
      "[317]\tvalidation_0-rmse:0.50906\tvalidation_1-rmse:0.51373\n",
      "[318]\tvalidation_0-rmse:0.50903\tvalidation_1-rmse:0.51372\n",
      "[319]\tvalidation_0-rmse:0.50898\tvalidation_1-rmse:0.51372\n",
      "[320]\tvalidation_0-rmse:0.50897\tvalidation_1-rmse:0.51371\n",
      "[321]\tvalidation_0-rmse:0.50895\tvalidation_1-rmse:0.51370\n",
      "[322]\tvalidation_0-rmse:0.50893\tvalidation_1-rmse:0.51370\n",
      "[323]\tvalidation_0-rmse:0.50874\tvalidation_1-rmse:0.51355\n",
      "[324]\tvalidation_0-rmse:0.50872\tvalidation_1-rmse:0.51356\n",
      "[325]\tvalidation_0-rmse:0.50866\tvalidation_1-rmse:0.51355\n",
      "[326]\tvalidation_0-rmse:0.50863\tvalidation_1-rmse:0.51355\n",
      "[327]\tvalidation_0-rmse:0.50862\tvalidation_1-rmse:0.51355\n",
      "[328]\tvalidation_0-rmse:0.50845\tvalidation_1-rmse:0.51342\n",
      "[329]\tvalidation_0-rmse:0.50842\tvalidation_1-rmse:0.51341\n",
      "[330]\tvalidation_0-rmse:0.50832\tvalidation_1-rmse:0.51335\n",
      "[331]\tvalidation_0-rmse:0.50830\tvalidation_1-rmse:0.51335\n",
      "[332]\tvalidation_0-rmse:0.50829\tvalidation_1-rmse:0.51335\n",
      "[333]\tvalidation_0-rmse:0.50829\tvalidation_1-rmse:0.51335\n",
      "[334]\tvalidation_0-rmse:0.50828\tvalidation_1-rmse:0.51335\n",
      "[335]\tvalidation_0-rmse:0.50815\tvalidation_1-rmse:0.51326\n",
      "[336]\tvalidation_0-rmse:0.50814\tvalidation_1-rmse:0.51325\n",
      "[337]\tvalidation_0-rmse:0.50813\tvalidation_1-rmse:0.51325\n",
      "[338]\tvalidation_0-rmse:0.50808\tvalidation_1-rmse:0.51323\n",
      "[339]\tvalidation_0-rmse:0.50804\tvalidation_1-rmse:0.51320\n",
      "[340]\tvalidation_0-rmse:0.50801\tvalidation_1-rmse:0.51322\n",
      "[341]\tvalidation_0-rmse:0.50799\tvalidation_1-rmse:0.51321\n",
      "[342]\tvalidation_0-rmse:0.50798\tvalidation_1-rmse:0.51321\n",
      "[343]\tvalidation_0-rmse:0.50796\tvalidation_1-rmse:0.51320\n",
      "[344]\tvalidation_0-rmse:0.50794\tvalidation_1-rmse:0.51320\n",
      "[345]\tvalidation_0-rmse:0.50791\tvalidation_1-rmse:0.51319\n",
      "[346]\tvalidation_0-rmse:0.50780\tvalidation_1-rmse:0.51311\n",
      "[347]\tvalidation_0-rmse:0.50779\tvalidation_1-rmse:0.51309\n",
      "[348]\tvalidation_0-rmse:0.50770\tvalidation_1-rmse:0.51304\n",
      "[349]\tvalidation_0-rmse:0.50760\tvalidation_1-rmse:0.51297\n",
      "[350]\tvalidation_0-rmse:0.50755\tvalidation_1-rmse:0.51295\n",
      "[351]\tvalidation_0-rmse:0.50747\tvalidation_1-rmse:0.51289\n",
      "[352]\tvalidation_0-rmse:0.50740\tvalidation_1-rmse:0.51285\n",
      "[353]\tvalidation_0-rmse:0.50737\tvalidation_1-rmse:0.51282\n",
      "[354]\tvalidation_0-rmse:0.50729\tvalidation_1-rmse:0.51279\n",
      "[355]\tvalidation_0-rmse:0.50707\tvalidation_1-rmse:0.51262\n",
      "[356]\tvalidation_0-rmse:0.50704\tvalidation_1-rmse:0.51261\n",
      "[357]\tvalidation_0-rmse:0.50701\tvalidation_1-rmse:0.51260\n",
      "[358]\tvalidation_0-rmse:0.50699\tvalidation_1-rmse:0.51260\n",
      "[359]\tvalidation_0-rmse:0.50696\tvalidation_1-rmse:0.51258\n",
      "[360]\tvalidation_0-rmse:0.50694\tvalidation_1-rmse:0.51260\n",
      "[361]\tvalidation_0-rmse:0.50691\tvalidation_1-rmse:0.51259\n",
      "[362]\tvalidation_0-rmse:0.50682\tvalidation_1-rmse:0.51253\n",
      "[363]\tvalidation_0-rmse:0.50680\tvalidation_1-rmse:0.51252\n",
      "[364]\tvalidation_0-rmse:0.50679\tvalidation_1-rmse:0.51251\n",
      "[365]\tvalidation_0-rmse:0.50677\tvalidation_1-rmse:0.51252\n",
      "[366]\tvalidation_0-rmse:0.50674\tvalidation_1-rmse:0.51251\n",
      "[367]\tvalidation_0-rmse:0.50674\tvalidation_1-rmse:0.51251\n",
      "[368]\tvalidation_0-rmse:0.50672\tvalidation_1-rmse:0.51251\n",
      "[369]\tvalidation_0-rmse:0.50670\tvalidation_1-rmse:0.51250\n",
      "[370]\tvalidation_0-rmse:0.50663\tvalidation_1-rmse:0.51246\n",
      "[371]\tvalidation_0-rmse:0.50658\tvalidation_1-rmse:0.51243\n",
      "[372]\tvalidation_0-rmse:0.50657\tvalidation_1-rmse:0.51244\n",
      "[373]\tvalidation_0-rmse:0.50653\tvalidation_1-rmse:0.51245\n",
      "[374]\tvalidation_0-rmse:0.50648\tvalidation_1-rmse:0.51246\n",
      "[375]\tvalidation_0-rmse:0.50645\tvalidation_1-rmse:0.51247\n",
      "[376]\tvalidation_0-rmse:0.50643\tvalidation_1-rmse:0.51245\n",
      "[377]\tvalidation_0-rmse:0.50638\tvalidation_1-rmse:0.51242\n",
      "[378]\tvalidation_0-rmse:0.50634\tvalidation_1-rmse:0.51242\n",
      "[379]\tvalidation_0-rmse:0.50632\tvalidation_1-rmse:0.51241\n",
      "[380]\tvalidation_0-rmse:0.50630\tvalidation_1-rmse:0.51241\n",
      "[381]\tvalidation_0-rmse:0.50623\tvalidation_1-rmse:0.51240\n",
      "[382]\tvalidation_0-rmse:0.50609\tvalidation_1-rmse:0.51231\n",
      "[383]\tvalidation_0-rmse:0.50607\tvalidation_1-rmse:0.51232\n",
      "[384]\tvalidation_0-rmse:0.50606\tvalidation_1-rmse:0.51232\n",
      "[385]\tvalidation_0-rmse:0.50604\tvalidation_1-rmse:0.51232\n",
      "[386]\tvalidation_0-rmse:0.50601\tvalidation_1-rmse:0.51231\n",
      "[387]\tvalidation_0-rmse:0.50597\tvalidation_1-rmse:0.51228\n",
      "[388]\tvalidation_0-rmse:0.50596\tvalidation_1-rmse:0.51228\n",
      "[389]\tvalidation_0-rmse:0.50594\tvalidation_1-rmse:0.51228\n",
      "[390]\tvalidation_0-rmse:0.50591\tvalidation_1-rmse:0.51228\n",
      "[391]\tvalidation_0-rmse:0.50588\tvalidation_1-rmse:0.51228\n",
      "[392]\tvalidation_0-rmse:0.50581\tvalidation_1-rmse:0.51222\n",
      "[393]\tvalidation_0-rmse:0.50578\tvalidation_1-rmse:0.51222\n",
      "[394]\tvalidation_0-rmse:0.50567\tvalidation_1-rmse:0.51212\n",
      "[395]\tvalidation_0-rmse:0.50565\tvalidation_1-rmse:0.51211\n",
      "[396]\tvalidation_0-rmse:0.50564\tvalidation_1-rmse:0.51211\n",
      "[397]\tvalidation_0-rmse:0.50563\tvalidation_1-rmse:0.51211\n",
      "[398]\tvalidation_0-rmse:0.50562\tvalidation_1-rmse:0.51210\n",
      "[399]\tvalidation_0-rmse:0.50559\tvalidation_1-rmse:0.51210\n",
      "[400]\tvalidation_0-rmse:0.50558\tvalidation_1-rmse:0.51210\n",
      "[401]\tvalidation_0-rmse:0.50557\tvalidation_1-rmse:0.51209\n",
      "[402]\tvalidation_0-rmse:0.50557\tvalidation_1-rmse:0.51209\n",
      "[403]\tvalidation_0-rmse:0.50543\tvalidation_1-rmse:0.51198\n",
      "[404]\tvalidation_0-rmse:0.50540\tvalidation_1-rmse:0.51197\n",
      "[405]\tvalidation_0-rmse:0.50538\tvalidation_1-rmse:0.51196\n",
      "[406]\tvalidation_0-rmse:0.50535\tvalidation_1-rmse:0.51194\n",
      "[407]\tvalidation_0-rmse:0.50531\tvalidation_1-rmse:0.51191\n",
      "[408]\tvalidation_0-rmse:0.50524\tvalidation_1-rmse:0.51185\n",
      "[409]\tvalidation_0-rmse:0.50523\tvalidation_1-rmse:0.51185\n",
      "[410]\tvalidation_0-rmse:0.50521\tvalidation_1-rmse:0.51186\n",
      "[411]\tvalidation_0-rmse:0.50519\tvalidation_1-rmse:0.51184\n",
      "[412]\tvalidation_0-rmse:0.50518\tvalidation_1-rmse:0.51185\n",
      "[413]\tvalidation_0-rmse:0.50514\tvalidation_1-rmse:0.51182\n",
      "[414]\tvalidation_0-rmse:0.50509\tvalidation_1-rmse:0.51182\n",
      "[415]\tvalidation_0-rmse:0.50508\tvalidation_1-rmse:0.51181\n",
      "[416]\tvalidation_0-rmse:0.50507\tvalidation_1-rmse:0.51180\n",
      "[417]\tvalidation_0-rmse:0.50503\tvalidation_1-rmse:0.51178\n",
      "[418]\tvalidation_0-rmse:0.50503\tvalidation_1-rmse:0.51179\n",
      "[419]\tvalidation_0-rmse:0.50502\tvalidation_1-rmse:0.51179\n",
      "[420]\tvalidation_0-rmse:0.50496\tvalidation_1-rmse:0.51178\n",
      "[421]\tvalidation_0-rmse:0.50489\tvalidation_1-rmse:0.51172\n",
      "[422]\tvalidation_0-rmse:0.50489\tvalidation_1-rmse:0.51172\n",
      "[423]\tvalidation_0-rmse:0.50488\tvalidation_1-rmse:0.51171\n",
      "[424]\tvalidation_0-rmse:0.50484\tvalidation_1-rmse:0.51170\n",
      "[425]\tvalidation_0-rmse:0.50483\tvalidation_1-rmse:0.51170\n",
      "[426]\tvalidation_0-rmse:0.50479\tvalidation_1-rmse:0.51167\n",
      "[427]\tvalidation_0-rmse:0.50477\tvalidation_1-rmse:0.51165\n",
      "[428]\tvalidation_0-rmse:0.50472\tvalidation_1-rmse:0.51163\n",
      "[429]\tvalidation_0-rmse:0.50463\tvalidation_1-rmse:0.51156\n",
      "[430]\tvalidation_0-rmse:0.50462\tvalidation_1-rmse:0.51154\n",
      "[431]\tvalidation_0-rmse:0.50460\tvalidation_1-rmse:0.51153\n",
      "[432]\tvalidation_0-rmse:0.50454\tvalidation_1-rmse:0.51151\n",
      "[433]\tvalidation_0-rmse:0.50453\tvalidation_1-rmse:0.51151\n",
      "[434]\tvalidation_0-rmse:0.50451\tvalidation_1-rmse:0.51150\n",
      "[435]\tvalidation_0-rmse:0.50449\tvalidation_1-rmse:0.51148\n",
      "[436]\tvalidation_0-rmse:0.50447\tvalidation_1-rmse:0.51147\n",
      "[437]\tvalidation_0-rmse:0.50445\tvalidation_1-rmse:0.51149\n",
      "[438]\tvalidation_0-rmse:0.50444\tvalidation_1-rmse:0.51150\n",
      "[439]\tvalidation_0-rmse:0.50441\tvalidation_1-rmse:0.51147\n",
      "[440]\tvalidation_0-rmse:0.50434\tvalidation_1-rmse:0.51142\n",
      "[441]\tvalidation_0-rmse:0.50431\tvalidation_1-rmse:0.51142\n",
      "[442]\tvalidation_0-rmse:0.50426\tvalidation_1-rmse:0.51141\n",
      "[443]\tvalidation_0-rmse:0.50421\tvalidation_1-rmse:0.51140\n",
      "[444]\tvalidation_0-rmse:0.50414\tvalidation_1-rmse:0.51135\n",
      "[445]\tvalidation_0-rmse:0.50409\tvalidation_1-rmse:0.51134\n",
      "[446]\tvalidation_0-rmse:0.50401\tvalidation_1-rmse:0.51127\n",
      "[447]\tvalidation_0-rmse:0.50398\tvalidation_1-rmse:0.51126\n",
      "[448]\tvalidation_0-rmse:0.50393\tvalidation_1-rmse:0.51123\n",
      "[449]\tvalidation_0-rmse:0.50392\tvalidation_1-rmse:0.51123\n",
      "[450]\tvalidation_0-rmse:0.50387\tvalidation_1-rmse:0.51123\n",
      "[451]\tvalidation_0-rmse:0.50384\tvalidation_1-rmse:0.51122\n",
      "[452]\tvalidation_0-rmse:0.50380\tvalidation_1-rmse:0.51121\n",
      "[453]\tvalidation_0-rmse:0.50377\tvalidation_1-rmse:0.51120\n",
      "[454]\tvalidation_0-rmse:0.50375\tvalidation_1-rmse:0.51120\n",
      "[455]\tvalidation_0-rmse:0.50373\tvalidation_1-rmse:0.51119\n",
      "[456]\tvalidation_0-rmse:0.50371\tvalidation_1-rmse:0.51119\n",
      "[457]\tvalidation_0-rmse:0.50364\tvalidation_1-rmse:0.51113\n",
      "[458]\tvalidation_0-rmse:0.50360\tvalidation_1-rmse:0.51112\n",
      "[459]\tvalidation_0-rmse:0.50357\tvalidation_1-rmse:0.51110\n",
      "[460]\tvalidation_0-rmse:0.50354\tvalidation_1-rmse:0.51110\n",
      "[461]\tvalidation_0-rmse:0.50347\tvalidation_1-rmse:0.51104\n",
      "[462]\tvalidation_0-rmse:0.50340\tvalidation_1-rmse:0.51098\n",
      "[463]\tvalidation_0-rmse:0.50335\tvalidation_1-rmse:0.51095\n",
      "[464]\tvalidation_0-rmse:0.50329\tvalidation_1-rmse:0.51095\n",
      "[465]\tvalidation_0-rmse:0.50325\tvalidation_1-rmse:0.51092\n",
      "[466]\tvalidation_0-rmse:0.50318\tvalidation_1-rmse:0.51089\n",
      "[467]\tvalidation_0-rmse:0.50317\tvalidation_1-rmse:0.51089\n",
      "[468]\tvalidation_0-rmse:0.50316\tvalidation_1-rmse:0.51089\n",
      "[469]\tvalidation_0-rmse:0.50313\tvalidation_1-rmse:0.51088\n",
      "[470]\tvalidation_0-rmse:0.50312\tvalidation_1-rmse:0.51089\n",
      "[471]\tvalidation_0-rmse:0.50310\tvalidation_1-rmse:0.51088\n",
      "[472]\tvalidation_0-rmse:0.50309\tvalidation_1-rmse:0.51088\n",
      "[473]\tvalidation_0-rmse:0.50307\tvalidation_1-rmse:0.51087\n",
      "[474]\tvalidation_0-rmse:0.50301\tvalidation_1-rmse:0.51086\n",
      "[475]\tvalidation_0-rmse:0.50299\tvalidation_1-rmse:0.51086\n",
      "[476]\tvalidation_0-rmse:0.50298\tvalidation_1-rmse:0.51086\n",
      "[477]\tvalidation_0-rmse:0.50296\tvalidation_1-rmse:0.51085\n",
      "[478]\tvalidation_0-rmse:0.50292\tvalidation_1-rmse:0.51088\n",
      "[479]\tvalidation_0-rmse:0.50291\tvalidation_1-rmse:0.51088\n",
      "[480]\tvalidation_0-rmse:0.50289\tvalidation_1-rmse:0.51086\n",
      "[481]\tvalidation_0-rmse:0.50285\tvalidation_1-rmse:0.51086\n",
      "[482]\tvalidation_0-rmse:0.50274\tvalidation_1-rmse:0.51077\n",
      "[483]\tvalidation_0-rmse:0.50271\tvalidation_1-rmse:0.51077\n",
      "[484]\tvalidation_0-rmse:0.50270\tvalidation_1-rmse:0.51077\n",
      "[485]\tvalidation_0-rmse:0.50268\tvalidation_1-rmse:0.51077\n",
      "[486]\tvalidation_0-rmse:0.50263\tvalidation_1-rmse:0.51077\n",
      "[487]\tvalidation_0-rmse:0.50259\tvalidation_1-rmse:0.51074\n",
      "[488]\tvalidation_0-rmse:0.50257\tvalidation_1-rmse:0.51073\n",
      "[489]\tvalidation_0-rmse:0.50256\tvalidation_1-rmse:0.51073\n",
      "[490]\tvalidation_0-rmse:0.50251\tvalidation_1-rmse:0.51072\n",
      "[491]\tvalidation_0-rmse:0.50249\tvalidation_1-rmse:0.51071\n",
      "[492]\tvalidation_0-rmse:0.50247\tvalidation_1-rmse:0.51070\n",
      "[493]\tvalidation_0-rmse:0.50242\tvalidation_1-rmse:0.51066\n",
      "[494]\tvalidation_0-rmse:0.50239\tvalidation_1-rmse:0.51067\n",
      "[495]\tvalidation_0-rmse:0.50234\tvalidation_1-rmse:0.51067\n",
      "[496]\tvalidation_0-rmse:0.50233\tvalidation_1-rmse:0.51066\n",
      "[497]\tvalidation_0-rmse:0.50230\tvalidation_1-rmse:0.51064\n",
      "[498]\tvalidation_0-rmse:0.50228\tvalidation_1-rmse:0.51065\n",
      "[499]\tvalidation_0-rmse:0.50222\tvalidation_1-rmse:0.51063\n",
      "[500]\tvalidation_0-rmse:0.50219\tvalidation_1-rmse:0.51062\n",
      "[501]\tvalidation_0-rmse:0.50214\tvalidation_1-rmse:0.51059\n",
      "[502]\tvalidation_0-rmse:0.50214\tvalidation_1-rmse:0.51060\n",
      "[503]\tvalidation_0-rmse:0.50211\tvalidation_1-rmse:0.51060\n",
      "[504]\tvalidation_0-rmse:0.50210\tvalidation_1-rmse:0.51060\n",
      "[505]\tvalidation_0-rmse:0.50209\tvalidation_1-rmse:0.51060\n",
      "[506]\tvalidation_0-rmse:0.50208\tvalidation_1-rmse:0.51059\n",
      "[507]\tvalidation_0-rmse:0.50207\tvalidation_1-rmse:0.51060\n",
      "[508]\tvalidation_0-rmse:0.50206\tvalidation_1-rmse:0.51059\n",
      "[509]\tvalidation_0-rmse:0.50204\tvalidation_1-rmse:0.51058\n",
      "[510]\tvalidation_0-rmse:0.50201\tvalidation_1-rmse:0.51058\n",
      "[511]\tvalidation_0-rmse:0.50200\tvalidation_1-rmse:0.51058\n",
      "[512]\tvalidation_0-rmse:0.50200\tvalidation_1-rmse:0.51058\n",
      "[513]\tvalidation_0-rmse:0.50196\tvalidation_1-rmse:0.51057\n",
      "[514]\tvalidation_0-rmse:0.50195\tvalidation_1-rmse:0.51057\n",
      "[515]\tvalidation_0-rmse:0.50193\tvalidation_1-rmse:0.51057\n",
      "[516]\tvalidation_0-rmse:0.50189\tvalidation_1-rmse:0.51055\n",
      "[517]\tvalidation_0-rmse:0.50184\tvalidation_1-rmse:0.51054\n",
      "[518]\tvalidation_0-rmse:0.50183\tvalidation_1-rmse:0.51054\n",
      "[519]\tvalidation_0-rmse:0.50180\tvalidation_1-rmse:0.51051\n",
      "[520]\tvalidation_0-rmse:0.50177\tvalidation_1-rmse:0.51053\n",
      "[521]\tvalidation_0-rmse:0.50169\tvalidation_1-rmse:0.51049\n",
      "[522]\tvalidation_0-rmse:0.50165\tvalidation_1-rmse:0.51048\n",
      "[523]\tvalidation_0-rmse:0.50164\tvalidation_1-rmse:0.51047\n",
      "[524]\tvalidation_0-rmse:0.50163\tvalidation_1-rmse:0.51047\n",
      "[525]\tvalidation_0-rmse:0.50161\tvalidation_1-rmse:0.51047\n",
      "[526]\tvalidation_0-rmse:0.50157\tvalidation_1-rmse:0.51045\n",
      "[527]\tvalidation_0-rmse:0.50154\tvalidation_1-rmse:0.51045\n",
      "[528]\tvalidation_0-rmse:0.50153\tvalidation_1-rmse:0.51045\n",
      "[529]\tvalidation_0-rmse:0.50152\tvalidation_1-rmse:0.51045\n",
      "[530]\tvalidation_0-rmse:0.50150\tvalidation_1-rmse:0.51046\n",
      "[531]\tvalidation_0-rmse:0.50149\tvalidation_1-rmse:0.51046\n",
      "[532]\tvalidation_0-rmse:0.50149\tvalidation_1-rmse:0.51046\n",
      "[533]\tvalidation_0-rmse:0.50148\tvalidation_1-rmse:0.51045\n",
      "[534]\tvalidation_0-rmse:0.50146\tvalidation_1-rmse:0.51046\n",
      "[535]\tvalidation_0-rmse:0.50141\tvalidation_1-rmse:0.51043\n",
      "[536]\tvalidation_0-rmse:0.50136\tvalidation_1-rmse:0.51041\n",
      "[537]\tvalidation_0-rmse:0.50136\tvalidation_1-rmse:0.51041\n",
      "[538]\tvalidation_0-rmse:0.50132\tvalidation_1-rmse:0.51039\n",
      "[539]\tvalidation_0-rmse:0.50129\tvalidation_1-rmse:0.51037\n",
      "[540]\tvalidation_0-rmse:0.50128\tvalidation_1-rmse:0.51037\n",
      "[541]\tvalidation_0-rmse:0.50127\tvalidation_1-rmse:0.51037\n",
      "[542]\tvalidation_0-rmse:0.50124\tvalidation_1-rmse:0.51035\n",
      "[543]\tvalidation_0-rmse:0.50120\tvalidation_1-rmse:0.51033\n",
      "[544]\tvalidation_0-rmse:0.50119\tvalidation_1-rmse:0.51034\n",
      "[545]\tvalidation_0-rmse:0.50117\tvalidation_1-rmse:0.51031\n",
      "[546]\tvalidation_0-rmse:0.50117\tvalidation_1-rmse:0.51032\n",
      "[547]\tvalidation_0-rmse:0.50113\tvalidation_1-rmse:0.51031\n",
      "[548]\tvalidation_0-rmse:0.50110\tvalidation_1-rmse:0.51029\n",
      "[549]\tvalidation_0-rmse:0.50108\tvalidation_1-rmse:0.51029\n",
      "[550]\tvalidation_0-rmse:0.50106\tvalidation_1-rmse:0.51028\n",
      "[551]\tvalidation_0-rmse:0.50104\tvalidation_1-rmse:0.51029\n",
      "[552]\tvalidation_0-rmse:0.50102\tvalidation_1-rmse:0.51027\n",
      "[553]\tvalidation_0-rmse:0.50101\tvalidation_1-rmse:0.51027\n",
      "[554]\tvalidation_0-rmse:0.50100\tvalidation_1-rmse:0.51027\n",
      "[555]\tvalidation_0-rmse:0.50099\tvalidation_1-rmse:0.51026\n",
      "[556]\tvalidation_0-rmse:0.50097\tvalidation_1-rmse:0.51028\n",
      "[557]\tvalidation_0-rmse:0.50096\tvalidation_1-rmse:0.51029\n",
      "[558]\tvalidation_0-rmse:0.50095\tvalidation_1-rmse:0.51028\n",
      "[559]\tvalidation_0-rmse:0.50094\tvalidation_1-rmse:0.51028\n",
      "[560]\tvalidation_0-rmse:0.50093\tvalidation_1-rmse:0.51028\n",
      "[561]\tvalidation_0-rmse:0.50093\tvalidation_1-rmse:0.51029\n",
      "[562]\tvalidation_0-rmse:0.50091\tvalidation_1-rmse:0.51028\n",
      "[563]\tvalidation_0-rmse:0.50089\tvalidation_1-rmse:0.51026\n",
      "[564]\tvalidation_0-rmse:0.50082\tvalidation_1-rmse:0.51023\n",
      "[565]\tvalidation_0-rmse:0.50081\tvalidation_1-rmse:0.51024\n",
      "[566]\tvalidation_0-rmse:0.50079\tvalidation_1-rmse:0.51024\n",
      "[567]\tvalidation_0-rmse:0.50073\tvalidation_1-rmse:0.51021\n",
      "[568]\tvalidation_0-rmse:0.50070\tvalidation_1-rmse:0.51021\n",
      "[569]\tvalidation_0-rmse:0.50066\tvalidation_1-rmse:0.51019\n",
      "[570]\tvalidation_0-rmse:0.50065\tvalidation_1-rmse:0.51020\n",
      "[571]\tvalidation_0-rmse:0.50065\tvalidation_1-rmse:0.51019\n",
      "[572]\tvalidation_0-rmse:0.50064\tvalidation_1-rmse:0.51019\n",
      "[573]\tvalidation_0-rmse:0.50062\tvalidation_1-rmse:0.51020\n",
      "[574]\tvalidation_0-rmse:0.50060\tvalidation_1-rmse:0.51021\n",
      "[575]\tvalidation_0-rmse:0.50058\tvalidation_1-rmse:0.51020\n",
      "[576]\tvalidation_0-rmse:0.50057\tvalidation_1-rmse:0.51019\n",
      "[577]\tvalidation_0-rmse:0.50055\tvalidation_1-rmse:0.51019\n",
      "[578]\tvalidation_0-rmse:0.50048\tvalidation_1-rmse:0.51018\n",
      "[579]\tvalidation_0-rmse:0.50046\tvalidation_1-rmse:0.51018\n",
      "[580]\tvalidation_0-rmse:0.50045\tvalidation_1-rmse:0.51018\n",
      "[581]\tvalidation_0-rmse:0.50044\tvalidation_1-rmse:0.51017\n",
      "[582]\tvalidation_0-rmse:0.50041\tvalidation_1-rmse:0.51017\n",
      "[583]\tvalidation_0-rmse:0.50041\tvalidation_1-rmse:0.51016\n",
      "[584]\tvalidation_0-rmse:0.50039\tvalidation_1-rmse:0.51016\n",
      "[585]\tvalidation_0-rmse:0.50036\tvalidation_1-rmse:0.51015\n",
      "[586]\tvalidation_0-rmse:0.50035\tvalidation_1-rmse:0.51015\n",
      "[587]\tvalidation_0-rmse:0.50033\tvalidation_1-rmse:0.51014\n",
      "[588]\tvalidation_0-rmse:0.50030\tvalidation_1-rmse:0.51012\n",
      "[589]\tvalidation_0-rmse:0.50029\tvalidation_1-rmse:0.51013\n",
      "[590]\tvalidation_0-rmse:0.50028\tvalidation_1-rmse:0.51013\n",
      "[591]\tvalidation_0-rmse:0.50027\tvalidation_1-rmse:0.51013\n",
      "[592]\tvalidation_0-rmse:0.50026\tvalidation_1-rmse:0.51013\n",
      "[593]\tvalidation_0-rmse:0.50023\tvalidation_1-rmse:0.51013\n",
      "[594]\tvalidation_0-rmse:0.50022\tvalidation_1-rmse:0.51015\n",
      "[595]\tvalidation_0-rmse:0.50015\tvalidation_1-rmse:0.51008\n",
      "[596]\tvalidation_0-rmse:0.50012\tvalidation_1-rmse:0.51007\n",
      "[597]\tvalidation_0-rmse:0.50007\tvalidation_1-rmse:0.51003\n",
      "[598]\tvalidation_0-rmse:0.50004\tvalidation_1-rmse:0.51001\n",
      "[599]\tvalidation_0-rmse:0.50002\tvalidation_1-rmse:0.51001\n",
      "[600]\tvalidation_0-rmse:0.50001\tvalidation_1-rmse:0.51002\n",
      "[601]\tvalidation_0-rmse:0.50001\tvalidation_1-rmse:0.51003\n",
      "[602]\tvalidation_0-rmse:0.50001\tvalidation_1-rmse:0.51003\n",
      "[603]\tvalidation_0-rmse:0.50001\tvalidation_1-rmse:0.51003\n",
      "[604]\tvalidation_0-rmse:0.49999\tvalidation_1-rmse:0.51004\n",
      "[605]\tvalidation_0-rmse:0.49998\tvalidation_1-rmse:0.51004\n",
      "[606]\tvalidation_0-rmse:0.49998\tvalidation_1-rmse:0.51005\n",
      "[607]\tvalidation_0-rmse:0.49996\tvalidation_1-rmse:0.51004\n",
      "[608]\tvalidation_0-rmse:0.49996\tvalidation_1-rmse:0.51005\n",
      "[609]\tvalidation_0-rmse:0.49993\tvalidation_1-rmse:0.51005\n",
      "[610]\tvalidation_0-rmse:0.49990\tvalidation_1-rmse:0.51003\n",
      "[611]\tvalidation_0-rmse:0.49985\tvalidation_1-rmse:0.51003\n",
      "[612]\tvalidation_0-rmse:0.49984\tvalidation_1-rmse:0.51003\n",
      "[613]\tvalidation_0-rmse:0.49984\tvalidation_1-rmse:0.51003\n",
      "[614]\tvalidation_0-rmse:0.49981\tvalidation_1-rmse:0.51001\n",
      "[615]\tvalidation_0-rmse:0.49980\tvalidation_1-rmse:0.51001\n",
      "[616]\tvalidation_0-rmse:0.49976\tvalidation_1-rmse:0.51001\n",
      "[617]\tvalidation_0-rmse:0.49975\tvalidation_1-rmse:0.51000\n",
      "[618]\tvalidation_0-rmse:0.49974\tvalidation_1-rmse:0.51000\n",
      "[619]\tvalidation_0-rmse:0.49972\tvalidation_1-rmse:0.51000\n",
      "[620]\tvalidation_0-rmse:0.49970\tvalidation_1-rmse:0.50999\n",
      "[621]\tvalidation_0-rmse:0.49966\tvalidation_1-rmse:0.50998\n",
      "[622]\tvalidation_0-rmse:0.49964\tvalidation_1-rmse:0.50998\n",
      "[623]\tvalidation_0-rmse:0.49960\tvalidation_1-rmse:0.50997\n",
      "[624]\tvalidation_0-rmse:0.49956\tvalidation_1-rmse:0.50997\n",
      "[625]\tvalidation_0-rmse:0.49954\tvalidation_1-rmse:0.50997\n",
      "[626]\tvalidation_0-rmse:0.49953\tvalidation_1-rmse:0.50997\n",
      "[627]\tvalidation_0-rmse:0.49949\tvalidation_1-rmse:0.50998\n",
      "[628]\tvalidation_0-rmse:0.49943\tvalidation_1-rmse:0.50994\n",
      "[629]\tvalidation_0-rmse:0.49938\tvalidation_1-rmse:0.50995\n",
      "[630]\tvalidation_0-rmse:0.49936\tvalidation_1-rmse:0.50994\n",
      "[631]\tvalidation_0-rmse:0.49932\tvalidation_1-rmse:0.50992\n",
      "[632]\tvalidation_0-rmse:0.49928\tvalidation_1-rmse:0.50990\n",
      "[633]\tvalidation_0-rmse:0.49925\tvalidation_1-rmse:0.50988\n",
      "[634]\tvalidation_0-rmse:0.49922\tvalidation_1-rmse:0.50988\n",
      "[635]\tvalidation_0-rmse:0.49919\tvalidation_1-rmse:0.50988\n",
      "[636]\tvalidation_0-rmse:0.49917\tvalidation_1-rmse:0.50987\n",
      "[637]\tvalidation_0-rmse:0.49917\tvalidation_1-rmse:0.50987\n",
      "[638]\tvalidation_0-rmse:0.49913\tvalidation_1-rmse:0.50988\n",
      "[639]\tvalidation_0-rmse:0.49912\tvalidation_1-rmse:0.50987\n",
      "[640]\tvalidation_0-rmse:0.49911\tvalidation_1-rmse:0.50986\n",
      "[641]\tvalidation_0-rmse:0.49905\tvalidation_1-rmse:0.50980\n",
      "[642]\tvalidation_0-rmse:0.49902\tvalidation_1-rmse:0.50979\n",
      "[643]\tvalidation_0-rmse:0.49901\tvalidation_1-rmse:0.50980\n",
      "[644]\tvalidation_0-rmse:0.49901\tvalidation_1-rmse:0.50980\n",
      "[645]\tvalidation_0-rmse:0.49900\tvalidation_1-rmse:0.50979\n",
      "[646]\tvalidation_0-rmse:0.49896\tvalidation_1-rmse:0.50978\n",
      "[647]\tvalidation_0-rmse:0.49894\tvalidation_1-rmse:0.50979\n",
      "[648]\tvalidation_0-rmse:0.49894\tvalidation_1-rmse:0.50978\n",
      "[649]\tvalidation_0-rmse:0.49892\tvalidation_1-rmse:0.50977\n",
      "[650]\tvalidation_0-rmse:0.49891\tvalidation_1-rmse:0.50978\n",
      "[651]\tvalidation_0-rmse:0.49889\tvalidation_1-rmse:0.50978\n",
      "[652]\tvalidation_0-rmse:0.49889\tvalidation_1-rmse:0.50978\n",
      "[653]\tvalidation_0-rmse:0.49888\tvalidation_1-rmse:0.50978\n",
      "[654]\tvalidation_0-rmse:0.49887\tvalidation_1-rmse:0.50979\n",
      "[655]\tvalidation_0-rmse:0.49886\tvalidation_1-rmse:0.50978\n",
      "[656]\tvalidation_0-rmse:0.49885\tvalidation_1-rmse:0.50978\n",
      "[657]\tvalidation_0-rmse:0.49885\tvalidation_1-rmse:0.50978\n",
      "[658]\tvalidation_0-rmse:0.49884\tvalidation_1-rmse:0.50978\n",
      "[659]\tvalidation_0-rmse:0.49882\tvalidation_1-rmse:0.50979\n",
      "[660]\tvalidation_0-rmse:0.49882\tvalidation_1-rmse:0.50979\n",
      "[661]\tvalidation_0-rmse:0.49881\tvalidation_1-rmse:0.50979\n",
      "[662]\tvalidation_0-rmse:0.49880\tvalidation_1-rmse:0.50979\n",
      "[663]\tvalidation_0-rmse:0.49878\tvalidation_1-rmse:0.50979\n",
      "[664]\tvalidation_0-rmse:0.49876\tvalidation_1-rmse:0.50980\n",
      "[665]\tvalidation_0-rmse:0.49875\tvalidation_1-rmse:0.50980\n",
      "[666]\tvalidation_0-rmse:0.49874\tvalidation_1-rmse:0.50980\n",
      "[667]\tvalidation_0-rmse:0.49872\tvalidation_1-rmse:0.50980\n",
      "[668]\tvalidation_0-rmse:0.49869\tvalidation_1-rmse:0.50981\n"
     ]
    }
   ],
   "source": [
    "gbm = xgb.XGBRegressor( \n",
    "                       n_estimators=30000, #arbitrary large number\n",
    "                       max_depth=3,\n",
    "                       objective=\"reg:squarederror\",  # Other options: https://xgboost.readthedocs.io/en/latest/parameter.html#learning-task-parameters\n",
    "                       learning_rate=.1, \n",
    "                       subsample=1,\n",
    "                       min_child_weight=1,\n",
    "                       colsample_bytree=.8\n",
    "                      )\n",
    "\n",
    "eval_set=[(X_train,y_train),(X_val,y_val)] #tracking train/validation error as we go\n",
    "fit_model = gbm.fit( \n",
    "                    X_train, y_train, \n",
    "                    eval_set=eval_set,\n",
    "                    eval_metric='rmse',\n",
    "                    early_stopping_rounds=20,\n",
    "                    verbose=True #gives output log as below\n",
    "                   )"
   ]
  },
  {
   "cell_type": "markdown",
   "metadata": {},
   "source": [
    "Starting xgb benchmark: we've already improved on RF."
   ]
  },
  {
   "cell_type": "code",
   "execution_count": 26,
   "metadata": {},
   "outputs": [
    {
     "data": {
      "text/plain": [
       "0.5127903732091729"
      ]
     },
     "execution_count": 26,
     "metadata": {},
     "output_type": "execute_result"
    }
   ],
   "source": [
    "# predict using n_estimators with lowest validation error\n",
    "rmse(gbm.predict(X_test, ntree_limit=gbm.best_ntree_limit),y_test) "
   ]
  },
  {
   "cell_type": "markdown",
   "metadata": {},
   "source": [
    "To tune, we should use validation results and ignore test until final verification. So here's the validation error benchmark we want to beat:"
   ]
  },
  {
   "cell_type": "code",
   "execution_count": 27,
   "metadata": {},
   "outputs": [
    {
     "data": {
      "text/plain": [
       "0.5097691912179196"
      ]
     },
     "execution_count": 27,
     "metadata": {},
     "output_type": "execute_result"
    }
   ],
   "source": [
    "rmse(gbm.predict(X_val, ntree_limit=gbm.best_ntree_limit),y_val) "
   ]
  },
  {
   "cell_type": "code",
   "execution_count": 28,
   "metadata": {},
   "outputs": [
    {
     "data": {
      "text/plain": [
       "0.5027830039619762"
      ]
     },
     "execution_count": 28,
     "metadata": {},
     "output_type": "execute_result"
    }
   ],
   "source": [
    "gbm = xgb.XGBRegressor(\n",
    "    n_estimators=30000,  #arbitrary large number\n",
    "    max_depth=7,\n",
    "    objective=\"reg:squarederror\",\n",
    "    learning_rate=.05,\n",
    "    subsample=.8,\n",
    "    min_child_weight=12,\n",
    "    colsample_bytree=.7,\n",
    "    n_jobs=-1,\n",
    "    random_state=0)\n",
    "\n",
    "eval_set = [(X_train, y_train),\n",
    "            (X_val, y_val)]  #tracking train/validation error as we go\n",
    "fit_model = gbm.fit(\n",
    "    X_train,\n",
    "    y_train,\n",
    "    eval_set=eval_set,\n",
    "    eval_metric='rmse',\n",
    "    early_stopping_rounds=50,\n",
    "    verbose=False)\n",
    "rmse(gbm.predict(X_val, ntree_limit=gbm.best_ntree_limit), y_val)"
   ]
  },
  {
   "cell_type": "code",
   "execution_count": 29,
   "metadata": {},
   "outputs": [
    {
     "data": {
      "text/plain": [
       "0.505429914064487"
      ]
     },
     "execution_count": 29,
     "metadata": {},
     "output_type": "execute_result"
    }
   ],
   "source": [
    "rmse(gbm.predict(X_test, ntree_limit=gbm.best_ntree_limit),y_test) "
   ]
  },
  {
   "cell_type": "code",
   "execution_count": 37,
   "metadata": {},
   "outputs": [
    {
     "data": {
      "image/png": "[encoded data removed]",
      "text/plain": [
       "<Figure size 432x288 with 1 Axes>"
      ]
     },
     "metadata": {
      "needs_background": "light"
     },
     "output_type": "display_data"
    },
    {
     "data": {
      "image/png": "[encoded data removed]",
      "text/plain": [
       "<Figure size 432x288 with 1 Axes>"
      ]
     },
     "metadata": {
      "needs_background": "light"
     },
     "output_type": "display_data"
    }
   ],
   "source": [
    "xgb.plot_importance(gbm)\n",
    "plt.savefig('charts/feature_importance_frequency', bbox_inches='tight')\n",
    "\n",
    "xgb.plot_importance(gbm, importance_type='gain')\n",
    "\n",
    "plt.savefig('charts/feature_importance_gain', bbox_inches='tight')"
   ]
  },
  {
   "cell_type": "code",
   "execution_count": 40,
   "metadata": {},
   "outputs": [
    {
     "data": {
      "text/plain": [
       "158771    29284\n",
       "70019        10\n",
       "99395        10\n",
       "143826       10\n",
       "46611         7\n",
       "143828        7\n",
       "82915         7\n",
       "141683        6\n",
       "46641         6\n",
       "143304        5\n",
       "127340        5\n",
       "137746        5\n",
       "151894        5\n",
       "137917        5\n",
       "148426        5\n",
       "143796        5\n",
       "143827        5\n",
       "57142         5\n",
       "82284         5\n",
       "142996        5\n",
       "Name: Violations, dtype: int64"
      ]
     },
     "execution_count": 40,
     "metadata": {},
     "output_type": "execute_result"
    }
   ],
   "source": [
    "df['Violations'].value_counts().head(20)"
   ]
  },
  {
   "cell_type": "code",
   "execution_count": 31,
   "metadata": {},
   "outputs": [
    {
     "data": {
      "text/plain": [
       "{'Violations': 12834,\n",
       " 'Latitude': 9650,\n",
       " 'Facility Type': 2053,\n",
       " 'Inspection Season': 2521,\n",
       " 'Zip': 3303,\n",
       " 'Inspection Type': 4199,\n",
       " 'Risk': 1059,\n",
       " 'Longitude': 8770}"
      ]
     },
     "execution_count": 31,
     "metadata": {},
     "output_type": "execute_result"
    }
   ],
   "source": [
    "gbm.get_booster().get_score(importance_type='weight') #extract raw frequency scores"
   ]
  },
  {
   "cell_type": "code",
   "execution_count": 32,
   "metadata": {},
   "outputs": [
    {
     "data": {
      "text/plain": [
       "{'Violations': 10.237374980377046,\n",
       " 'Latitude': 1.397760310688363,\n",
       " 'Facility Type': 1.5957995305649517,\n",
       " 'Inspection Season': 0.8848274144593432,\n",
       " 'Zip': 1.4359672283030793,\n",
       " 'Inspection Type': 6.302959162252771,\n",
       " 'Risk': 1.4814646733360342,\n",
       " 'Longitude': 1.4229471463850967}"
      ]
     },
     "execution_count": 32,
     "metadata": {},
     "output_type": "execute_result"
    }
   ],
   "source": [
    "gbm.get_booster().get_score(importance_type='gain') #extract raw gain scores"
   ]
  },
  {
   "cell_type": "code",
   "execution_count": null,
   "metadata": {},
   "outputs": [],
   "source": []
  }
 ],
 "metadata": {
  "kernelspec": {
   "display_name": "Python 3",
   "language": "python",
   "name": "python3"
  },
  "language_info": {
   "codemirror_mode": {
    "name": "ipython",
    "version": 3
   },
   "file_extension": ".py",
   "mimetype": "text/x-python",
   "name": "python",
   "nbconvert_exporter": "python",
   "pygments_lexer": "ipython3",
   "version": "3.8.5"
  }
 },
 "nbformat": 4,
 "nbformat_minor": 4
}
